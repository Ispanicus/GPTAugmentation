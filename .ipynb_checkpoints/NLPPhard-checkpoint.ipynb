{
 "cells": [
  {
   "cell_type": "code",
   "execution_count": 57,
   "id": "rubber-positive",
   "metadata": {},
   "outputs": [],
   "source": [
    "import numpy as np\n",
    "import pandas as pd\n",
    "import json\n",
    "import torch\n",
    "import torch.nn as nn\n",
    "\n",
    "mapping = {'verified':0,'reviewTime':1,'reviewerID':2,'asin':3,\"reviewText\":4,\"summary\":5,\"unixReviewTime\":6,\"sentiment\":7,\"id\":8}\n",
    "ls = []\n",
    "\n",
    "for line in open('Data/music_reviews_train.json'):\n",
    "    review_data = json.loads(line)\n",
    "    tmp = [None]*len(mapping)\n",
    "    for key in review_data:\n",
    "        if key in mapping:\n",
    "            tmp[mapping[key]] = review_data[key]\n",
    "    ls.append(tmp)\n",
    "#df = pd.read_json('Data/music_reviews_train.json', typ='series', orient='records')"
   ]
  },
  {
   "cell_type": "code",
   "execution_count": 58,
   "id": "consistent-employment",
   "metadata": {},
   "outputs": [],
   "source": [
    "df = pd.DataFrame(ls)\n",
    "df = df.drop(df[df[4].isna()].index) #Drops all None values for reviewtext"
   ]
  },
  {
   "cell_type": "code",
   "execution_count": 59,
   "id": "systematic-roots",
   "metadata": {},
   "outputs": [],
   "source": [
    "mp = {value:key for key, value in mapping.items()}\n",
    "df = df.rename(columns=mp)"
   ]
  },
  {
   "cell_type": "code",
   "execution_count": 65,
   "id": "binary-vienna",
   "metadata": {},
   "outputs": [],
   "source": [
    "import torch\n",
    "PAD = \"<PAD>\"\n",
    "window_size=2\n",
    "vocab = {\"<PAD>\": 0}\n",
    "id = 1\n",
    "word2idx = []\n",
    "\n",
    "for line in df[\"reviewText\"]:\n",
    "    for word in line.split():\n",
    "        if word not in vocab:\n",
    "            vocab[word] = id\n",
    "            id += 1\n",
    "\n",
    "target = []\n",
    "\n",
    "for line in df[\"reviewText\"]:\n",
    "    paddedline = [PAD, PAD] + line.split() + [PAD, PAD]\n",
    "    for i in range(2, len(paddedline)-2):\n",
    "        tmp = []\n",
    "        target.append(vocab[paddedline[i]])\n",
    "        for j in [-2,-1,1,2]:\n",
    "            if i+j < len(paddedline):\n",
    "                tmp.append(vocab[paddedline[i+j]])\n",
    "        word2idx.append(tmp)\n",
    "\n",
    "\n",
    "word2idx = torch.tensor(word2idx)\n",
    "target = torch.tensor(target)"
   ]
  },
  {
   "cell_type": "code",
   "execution_count": 68,
   "id": "basic-cattle",
   "metadata": {},
   "outputs": [
    {
     "name": "stdout",
     "output_type": "stream",
     "text": [
      "CBOW(\n",
      "  (emb): Embedding(226348, 64)\n",
      "  (hidden): Linear(in_features=64, out_features=226348, bias=True)\n",
      ")\n"
     ]
    }
   ],
   "source": [
    "import torch.nn as nn\n",
    "\n",
    "embed_dim = 64\n",
    "vocab_dim = len(vocab)\n",
    "\n",
    "class CBOW(nn.Module):\n",
    "    def __init__(self, emb_dim, vocab_dim):\n",
    "        super(CBOW, self).__init__()\n",
    "        self.emb = nn.Embedding(vocab_dim, emb_dim)\n",
    "        self.hidden = nn.Linear(embed_dim,vocab_dim)\n",
    "        #self.loss = nn.CrossEntropyLoss()\n",
    "\n",
    "\n",
    "    def forward(self, inputs, gold):\n",
    "        self.x = self.emb(inputs)\n",
    "        self.x2 = self.hidden(torch.sum(self.x,dim=0))\n",
    "        #self.output = self.loss(self.x2, gold)\n",
    "        return self.x2\n",
    "\n",
    "CBOW = CBOW(embed_dim,len(vocab))\n",
    "print(CBOW)"
   ]
  },
  {
   "cell_type": "code",
   "execution_count": 70,
   "id": "civic-costs",
   "metadata": {},
   "outputs": [
    {
     "data": {
      "text/plain": [
       "226348"
      ]
     },
     "execution_count": 70,
     "metadata": {},
     "output_type": "execute_result"
    }
   ],
   "source": [
    "len(vocab)"
   ]
  },
  {
   "cell_type": "code",
   "execution_count": 69,
   "id": "exposed-gateway",
   "metadata": {},
   "outputs": [
    {
     "ename": "RuntimeError",
     "evalue": "shape '[1, 14532]' is invalid for input of size 226348",
     "output_type": "error",
     "traceback": [
      "\u001b[0;31m---------------------------------------------------------------------------\u001b[0m",
      "\u001b[0;31mRuntimeError\u001b[0m                              Traceback (most recent call last)",
      "\u001b[0;32m<ipython-input-69-bdabaa13ee17>\u001b[0m in \u001b[0;36m<module>\u001b[0;34m\u001b[0m\n\u001b[1;32m     18\u001b[0m         \u001b[0moutputs\u001b[0m \u001b[0;34m=\u001b[0m \u001b[0mCBOW\u001b[0m\u001b[0;34m(\u001b[0m\u001b[0minputs\u001b[0m\u001b[0;34m,\u001b[0m \u001b[0mlabels2\u001b[0m\u001b[0;34m)\u001b[0m\u001b[0;34m\u001b[0m\u001b[0;34m\u001b[0m\u001b[0m\n\u001b[1;32m     19\u001b[0m         \u001b[0moutputs2\u001b[0m \u001b[0;34m=\u001b[0m \u001b[0moutputs\u001b[0m\u001b[0;34m.\u001b[0m\u001b[0mview\u001b[0m\u001b[0;34m(\u001b[0m\u001b[0;34m-\u001b[0m\u001b[0;36m1\u001b[0m\u001b[0;34m,\u001b[0m\u001b[0;36m1\u001b[0m\u001b[0;34m)\u001b[0m\u001b[0;34m\u001b[0m\u001b[0;34m\u001b[0m\u001b[0m\n\u001b[0;32m---> 20\u001b[0;31m         \u001b[0mloss\u001b[0m \u001b[0;34m=\u001b[0m \u001b[0mcriterion\u001b[0m\u001b[0;34m(\u001b[0m\u001b[0moutputs2\u001b[0m\u001b[0;34m.\u001b[0m\u001b[0mreshape\u001b[0m\u001b[0;34m(\u001b[0m\u001b[0;36m1\u001b[0m\u001b[0;34m,\u001b[0m\u001b[0;36m14532\u001b[0m\u001b[0;34m)\u001b[0m\u001b[0;34m,\u001b[0m \u001b[0mlabels2\u001b[0m\u001b[0;34m)\u001b[0m\u001b[0;34m\u001b[0m\u001b[0;34m\u001b[0m\u001b[0m\n\u001b[0m\u001b[1;32m     21\u001b[0m         \u001b[0mloss\u001b[0m\u001b[0;34m.\u001b[0m\u001b[0mbackward\u001b[0m\u001b[0;34m(\u001b[0m\u001b[0;34m)\u001b[0m\u001b[0;34m\u001b[0m\u001b[0;34m\u001b[0m\u001b[0m\n\u001b[1;32m     22\u001b[0m         \u001b[0moptimizer\u001b[0m\u001b[0;34m.\u001b[0m\u001b[0mstep\u001b[0m\u001b[0;34m(\u001b[0m\u001b[0;34m)\u001b[0m\u001b[0;34m\u001b[0m\u001b[0;34m\u001b[0m\u001b[0m\n",
      "\u001b[0;31mRuntimeError\u001b[0m: shape '[1, 14532]' is invalid for input of size 226348"
     ]
    }
   ],
   "source": [
    "import torch.optim as optim\n",
    "optimizer = optim.SGD(CBOW.parameters(), lr=0.001, momentum=0.9)\n",
    "criterion = nn.CrossEntropyLoss()\n",
    "\n",
    "for epoch in range(2):  # loop over the dataset multiple times\n",
    "\n",
    "    running_loss = 0.0\n",
    "    for i, data in enumerate(zip(word2idx, target)):\n",
    "        # get the inputs; data is a list of [inputs, labels]\n",
    "        \n",
    "        inputs, labels = data\n",
    "        labels2 = labels\n",
    "        # zero the parameter gradients\n",
    "        optimizer.zero_grad()\n",
    "\n",
    "        # forward + backward + optimize\n",
    "        labels2 = labels.reshape(1)\n",
    "        outputs = CBOW(inputs, labels2)\n",
    "        outputs2 = outputs.view(-1,1)\n",
    "        loss = criterion(outputs2.reshape(1,len(vocab)), labels2)\n",
    "        loss.backward()\n",
    "        optimizer.step()\n",
    "\n",
    "        # print statistics\n",
    "        running_loss += loss.item()\n",
    "        if i <= 10:    # print every 10 mini-batches\n",
    "            print('[%d, %5d] loss: %.3f' %\n",
    "                  (epoch + 1, i + 1, running_loss))\n",
    "        if i % 2000 == 1999:    # print every 2000 mini-batches\n",
    "            print('[%d, %5d] loss: %.3f' %\n",
    "                  (epoch + 1, i + 1, running_loss / 2000))\n",
    "            running_loss = 0.0\n",
    "\n",
    "print('Finished Training')"
   ]
  }
 ],
 "metadata": {
  "kernelspec": {
   "display_name": "Python 3",
   "language": "python",
   "name": "python3"
  },
  "language_info": {
   "codemirror_mode": {
    "name": "ipython",
    "version": 3
   },
   "file_extension": ".py",
   "mimetype": "text/x-python",
   "name": "python",
   "nbconvert_exporter": "python",
   "pygments_lexer": "ipython3",
   "version": "3.7.6"
  }
 },
 "nbformat": 4,
 "nbformat_minor": 5
}
