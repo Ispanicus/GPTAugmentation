{
 "cells": [
  {
   "cell_type": "code",
   "execution_count": 1,
   "id": "5f5e4189-22c7-4f2b-968a-96a58b74e0d9",
   "metadata": {},
   "outputs": [],
   "source": [
    "from get_data import get_data    "
   ]
  },
  {
   "cell_type": "code",
   "execution_count": 4,
   "id": "68379603-7e84-4815-b55f-b2099b8b79d0",
   "metadata": {},
   "outputs": [],
   "source": [
    "x,y = get_data(\"bert_10\")"
   ]
  },
  {
   "cell_type": "code",
   "execution_count": 8,
   "id": "2c777b1c-bf8d-48a9-8e2a-8fcc14b64ab6",
   "metadata": {},
   "outputs": [],
   "source": [
    "from clean_data import clean_bert"
   ]
  },
  {
   "cell_type": "code",
   "execution_count": 9,
   "id": "49357283-2fba-4287-af71-48fd25dbe9ed",
   "metadata": {},
   "outputs": [],
   "source": [
    "clean_bert()"
   ]
  },
  {
   "cell_type": "code",
   "execution_count": null,
   "id": "39a543fb-ea32-492a-9f90-87a0720fcd96",
   "metadata": {},
   "outputs": [],
   "source": []
  }
 ],
 "metadata": {
  "kernelspec": {
   "display_name": "Python 3",
   "language": "python",
   "name": "python3"
  },
  "language_info": {
   "codemirror_mode": {
    "name": "ipython",
    "version": 3
   },
   "file_extension": ".py",
   "mimetype": "text/x-python",
   "name": "python",
   "nbconvert_exporter": "python",
   "pygments_lexer": "ipython3",
   "version": "3.7.3"
  }
 },
 "nbformat": 4,
 "nbformat_minor": 5
}
