{
 "cells": [
  {
   "cell_type": "code",
   "execution_count": 1,
   "id": "f7871cf5-a22a-4c97-8028-6d6b0bc6c1b4",
   "metadata": {},
   "outputs": [
    {
     "name": "stdout",
     "output_type": "stream",
     "text": [
      "Device used = cuda\n"
     ]
    }
   ],
   "source": [
    "import sys\n",
    "# the mock-0.3.1 dir contains testcase.py, testutils.py & mock.py\n",
    "from get_data import get_data\n",
    "from train import train,score\n",
    "import pandas as pd\n",
    "import seaborn as sns\n",
    "import matplotlib.pyplot as plt\n",
    "from mpl_toolkits.mplot3d import Axes3D"
   ]
  },
  {
   "cell_type": "code",
   "execution_count": null,
   "id": "f8126fc3-df3b-47d2-a714-97815847358d",
   "metadata": {},
   "outputs": [],
   "source": [
    "ns = [10,50,100,500,2000]\n",
    "augs = [4,8,16,32,64]\n",
    "\n",
    "\n",
    "Xt, Yt = get_data(type=\"dev\")\n",
    "\n",
    "length = len(ns)*len(augs)\n",
    "data = {\"n\":[0]*length,\n",
    "       \"augs\":[0]*length,\n",
    "       \"score\":[0.0]*length,\n",
    "       \"vocab\":[0]*length}\n",
    "df = pd.DataFrame(data)\n",
    "\n",
    "i = 0\n",
    "for n in ns:\n",
    "    X,Y = get_data(f\"n_{n}\",early_return=False)\n",
    "    model, vocab = train( X, Y, epochs = 20, batch_size=64,embed_dim=100,lstm_dim=100,min_df=0,verbose=False)\n",
    "    acc = score(model,vocab,Xt,Yt,verbose=False)\n",
    "    df.at[i,\"n\"] = n\n",
    "    df.at[i,\"score\"] = acc\n",
    "    df.at[i,\"vocab\"] = len(vocab)\n",
    "    i+=1\n",
    "    for aug in augs:\n",
    "        #print(f\"\\neda_augs_{aug}_n_{n}\")\n",
    "        X,Y = get_data(type=f\"eda_augs_{aug}_n_{n}\")\n",
    "        model, vocab = train( X, Y, epochs = 20, batch_size=64,embed_dim=100,lstm_dim=100,min_df=0,verbose=False)\n",
    "        acc = score(model,vocab,Xt,Yt,verbose=False)\n",
    "        df.at[i,\"n\"] = n\n",
    "        df.at[i, \"augs\"] = aug\n",
    "        df.at[i,\"score\"] = acc\n",
    "        df.at[i,\"vocab\"] = len(vocab)\n",
    "        i += 1"
   ]
  },
  {
   "cell_type": "code",
   "execution_count": null,
   "id": "52f973a3-e8b4-4b41-9816-7e8db56fc17a",
   "metadata": {},
   "outputs": [],
   "source": [
    "df"
   ]
  },
  {
   "cell_type": "code",
   "execution_count": null,
   "id": "5b33e89e-675d-4eb8-8068-e59c3dd127d6",
   "metadata": {},
   "outputs": [],
   "source": [
    "df.to_csv(\"EDA_results.csv\")"
   ]
  },
  {
   "cell_type": "code",
   "execution_count": null,
   "id": "4f7819c4-f7f3-408d-91b9-bfb5dcae8a44",
   "metadata": {},
   "outputs": [],
   "source": [
    "g = sns.FacetGrid(df,col=\"n\")\n",
    "g.map(sns.scatterplot,\"augs\",\"score\")"
   ]
  },
  {
   "cell_type": "code",
   "execution_count": null,
   "id": "a17e0ba6-3727-4ae2-b6bb-21ea1d260b63",
   "metadata": {},
   "outputs": [],
   "source": []
  }
 ],
 "metadata": {
  "kernelspec": {
   "display_name": "Python 3",
   "language": "python",
   "name": "python3"
  },
  "language_info": {
   "codemirror_mode": {
    "name": "ipython",
    "version": 3
   },
   "file_extension": ".py",
   "mimetype": "text/x-python",
   "name": "python",
   "nbconvert_exporter": "python",
   "pygments_lexer": "ipython3",
   "version": "3.7.7"
  }
 },
 "nbformat": 4,
 "nbformat_minor": 5
}
