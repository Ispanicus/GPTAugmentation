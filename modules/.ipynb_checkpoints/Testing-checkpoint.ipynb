{
 "cells": [
  {
   "cell_type": "code",
   "execution_count": 1,
   "id": "9cbe698d-7b26-4e6c-9c73-e7ddd84b35a0",
   "metadata": {},
   "outputs": [],
   "source": [
    "from get_gpt_reviews import get_gpt_reviews"
   ]
  },
  {
   "cell_type": "code",
   "execution_count": 2,
   "id": "aa449bad-14a5-4d40-8340-61afe8bf045f",
   "metadata": {},
   "outputs": [
    {
     "name": "stdout",
     "output_type": "stream",
     "text": [
      "paths ['C:/Users/Vikto/Desktop/meh/NLPPhard/Data/gen_data/n_2000_size_30_0_0.028921786324062282.gpt', 'C:/Users/Vikto/Desktop/meh/NLPPhard/Data/gen_data/n_2000_size_30_0_0.09212712752157592.gpt', 'C:/Users/Vikto/Desktop/meh/NLPPhard/Data/gen_data/n_2000_size_30_0_0.12956281056312635.gpt', 'C:/Users/Vikto/Desktop/meh/NLPPhard/Data/gen_data/n_2000_size_30_0_0.16121996915775627.gpt', 'C:/Users/Vikto/Desktop/meh/NLPPhard/Data/gen_data/n_2000_size_30_0_0.2059797824256967.gpt', 'C:/Users/Vikto/Desktop/meh/NLPPhard/Data/gen_data/n_2000_size_30_0_0.5889247271480664.gpt', 'C:/Users/Vikto/Desktop/meh/NLPPhard/Data/gen_data/n_2000_size_30_0_0.6679940017895789.gpt', 'C:/Users/Vikto/Desktop/meh/NLPPhard/Data/gen_data/n_2000_size_30_0_0.705933929869709.gpt', 'C:/Users/Vikto/Desktop/meh/NLPPhard/Data/gen_data/n_2000_size_30_0_0.8555419731880556.gpt', 'C:/Users/Vikto/Desktop/meh/NLPPhard/Data/gen_data/n_2000_size_30_0_0.9644879361308978.gpt', 'C:/Users/Vikto/Desktop/meh/NLPPhard/Data/gen_data/n_2000_size_30_1_0.015164638646838258.gpt', 'C:/Users/Vikto/Desktop/meh/NLPPhard/Data/gen_data/n_2000_size_30_1_0.06220451235459956.gpt', 'C:/Users/Vikto/Desktop/meh/NLPPhard/Data/gen_data/n_2000_size_30_1_0.17765513001176447.gpt', 'C:/Users/Vikto/Desktop/meh/NLPPhard/Data/gen_data/n_2000_size_30_1_0.22857211965134017.gpt', 'C:/Users/Vikto/Desktop/meh/NLPPhard/Data/gen_data/n_2000_size_30_1_0.3371995954162893.gpt', 'C:/Users/Vikto/Desktop/meh/NLPPhard/Data/gen_data/n_2000_size_30_1_0.5663113053620341.gpt', 'C:/Users/Vikto/Desktop/meh/NLPPhard/Data/gen_data/n_2000_size_30_1_0.6584558684624098.gpt', 'C:/Users/Vikto/Desktop/meh/NLPPhard/Data/gen_data/n_2000_size_30_1_0.8037349398940932.gpt', 'C:/Users/Vikto/Desktop/meh/NLPPhard/Data/gen_data/n_2000_size_30_1_0.9537676451149237.gpt', 'C:/Users/Vikto/Desktop/meh/NLPPhard/Data/gen_data/n_2000_size_30_2_0.03411109781005772.gpt', 'C:/Users/Vikto/Desktop/meh/NLPPhard/Data/gen_data/n_2000_size_30_2_0.28719085640742015.gpt', 'C:/Users/Vikto/Desktop/meh/NLPPhard/Data/gen_data/n_2000_size_30_2_0.6747738798780868.gpt', 'C:/Users/Vikto/Desktop/meh/NLPPhard/Data/gen_data/n_2000_size_30_2_0.7037196265779893.gpt']\n"
     ]
    },
    {
     "data": {
      "text/html": [
       "<div>\n",
       "<style scoped>\n",
       "    .dataframe tbody tr th:only-of-type {\n",
       "        vertical-align: middle;\n",
       "    }\n",
       "\n",
       "    .dataframe tbody tr th {\n",
       "        vertical-align: top;\n",
       "    }\n",
       "\n",
       "    .dataframe thead th {\n",
       "        text-align: right;\n",
       "    }\n",
       "</style>\n",
       "<table border=\"1\" class=\"dataframe\">\n",
       "  <thead>\n",
       "    <tr style=\"text-align: right;\">\n",
       "      <th></th>\n",
       "      <th>reviewText</th>\n",
       "      <th>sentiment</th>\n",
       "    </tr>\n",
       "  </thead>\n",
       "  <tbody>\n",
       "    <tr>\n",
       "      <th>0</th>\n",
       "      <td>tot is a great album, but it took forever for ...</td>\n",
       "      <td>0</td>\n",
       "    </tr>\n",
       "    <tr>\n",
       "      <th>1</th>\n",
       "      <td>i really enjoy this album. it's not as good as...</td>\n",
       "      <td>0</td>\n",
       "    </tr>\n",
       "    <tr>\n",
       "      <th>2</th>\n",
       "      <td>this is a great album, and i love the song \"i'...</td>\n",
       "      <td>1</td>\n",
       "    </tr>\n",
       "    <tr>\n",
       "      <th>3</th>\n",
       "      <td>this album is great, although it is missing th...</td>\n",
       "      <td>1</td>\n",
       "    </tr>\n",
       "    <tr>\n",
       "      <th>4</th>\n",
       "      <td>the randy bachman albums that had the greatest...</td>\n",
       "      <td>1</td>\n",
       "    </tr>\n",
       "    <tr>\n",
       "      <th>...</th>\n",
       "      <td>...</td>\n",
       "      <td>...</td>\n",
       "    </tr>\n",
       "    <tr>\n",
       "      <th>11069</th>\n",
       "      <td>i have listened to this album over and over  a...</td>\n",
       "      <td>1</td>\n",
       "    </tr>\n",
       "    <tr>\n",
       "      <th>11070</th>\n",
       "      <td>this is one of my favorites.  i can't wait to ...</td>\n",
       "      <td>1</td>\n",
       "    </tr>\n",
       "    <tr>\n",
       "      <th>11071</th>\n",
       "      <td>i like john rich's music and he has brought so...</td>\n",
       "      <td>1</td>\n",
       "    </tr>\n",
       "    <tr>\n",
       "      <th>11072</th>\n",
       "      <td>this album is so good.  i love the whole album...</td>\n",
       "      <td>1</td>\n",
       "    </tr>\n",
       "    <tr>\n",
       "      <th>11073</th>\n",
       "      <td>i first heard john rich on the radio and i had...</td>\n",
       "      <td>1</td>\n",
       "    </tr>\n",
       "  </tbody>\n",
       "</table>\n",
       "<p>11074 rows × 2 columns</p>\n",
       "</div>"
      ],
      "text/plain": [
       "                                              reviewText  sentiment\n",
       "0      tot is a great album, but it took forever for ...          0\n",
       "1      i really enjoy this album. it's not as good as...          0\n",
       "2      this is a great album, and i love the song \"i'...          1\n",
       "3      this album is great, although it is missing th...          1\n",
       "4      the randy bachman albums that had the greatest...          1\n",
       "...                                                  ...        ...\n",
       "11069  i have listened to this album over and over  a...          1\n",
       "11070  this is one of my favorites.  i can't wait to ...          1\n",
       "11071  i like john rich's music and he has brought so...          1\n",
       "11072  this album is so good.  i love the whole album...          1\n",
       "11073  i first heard john rich on the radio and i had...          1\n",
       "\n",
       "[11074 rows x 2 columns]"
      ]
     },
     "execution_count": 2,
     "metadata": {},
     "output_type": "execute_result"
    }
   ],
   "source": [
    "get_gpt_reviews(2000)"
   ]
  },
  {
   "cell_type": "code",
   "execution_count": null,
   "id": "76359ca0-6817-4b41-ba34-1430f92750d3",
   "metadata": {},
   "outputs": [],
   "source": [
    "from get_eda_reviews import get_eda_reviews"
   ]
  },
  {
   "cell_type": "code",
   "execution_count": null,
   "id": "b289523b-25f0-4468-bbdf-d091e589abb0",
   "metadata": {},
   "outputs": [],
   "source": []
  }
 ],
 "metadata": {
  "kernelspec": {
   "display_name": "Python 3",
   "language": "python",
   "name": "python3"
  },
  "language_info": {
   "codemirror_mode": {
    "name": "ipython",
    "version": 3
   },
   "file_extension": ".py",
   "mimetype": "text/x-python",
   "name": "python",
   "nbconvert_exporter": "python",
   "pygments_lexer": "ipython3",
   "version": "3.7.3"
  }
 },
 "nbformat": 4,
 "nbformat_minor": 5
}
