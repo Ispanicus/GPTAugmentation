{
 "cells": [
  {
   "cell_type": "code",
   "execution_count": 22,
   "id": "innocent-glucose",
   "metadata": {},
   "outputs": [],
   "source": [
    "from nltk.stem import WordNetLemmatizer\n",
    "from nltk.tokenize import word_tokenize\n",
    "\n",
    "def clean(path):\n",
    "    lemmatize = WordNetLemmatizer().lemmatize\n",
    "    with open(\"../Data/subsets/n_100.txt\") as f:\n",
    "        with open(\"../Data/subsets/clean_n_100.txt\", \"w\") as outfile:\n",
    "            for l in f:\n",
    "                label, text = l.split('\\t')\n",
    "                text = ' '.join(lemmatize(w) for w in word_tokenize(text))\n",
    "                outfile.write(f'{label}\\n{text}\\n')\n",
    "clean(\"../Data/subsets/n_100.txt\")"
   ]
  },
  {
   "cell_type": "code",
   "execution_count": 5,
   "id": "adaptive-notion",
   "metadata": {},
   "outputs": [
    {
     "data": {
      "text/plain": [
       "'dog'"
      ]
     },
     "execution_count": 5,
     "metadata": {},
     "output_type": "execute_result"
    }
   ],
   "source": [
    "lemmatizer.lemmatize(\"dogs\")"
   ]
  },
  {
   "cell_type": "code",
   "execution_count": 17,
   "id": "israeli-sector",
   "metadata": {},
   "outputs": [
    {
     "data": {
      "text/plain": [
       "'this is not the original it is a remake probably for some legal ownership reason or some such bull . Complete crap . sorry i dowloaded it without listening first . i feel ripped off !'"
      ]
     },
     "execution_count": 17,
     "metadata": {},
     "output_type": "execute_result"
    }
   ],
   "source": [
    "' '.join(lemmatize(w) for w in word_tokenize(data[0].split('\\t')[1]))"
   ]
  },
  {
   "cell_type": "code",
   "execution_count": 14,
   "id": "caroline-nutrition",
   "metadata": {},
   "outputs": [
    {
     "data": {
      "text/plain": [
       "'this is not the original it is a remake probably for some legal ownership reasons or some such bull. Complete crap. sorry i dowloaded it without listening first. i feel ripped off!\\n'"
      ]
     },
     "execution_count": 14,
     "metadata": {},
     "output_type": "execute_result"
    }
   ],
   "source": [
    "data[0].split('\\t')[1]"
   ]
  },
  {
   "cell_type": "code",
   "execution_count": null,
   "id": "several-routine",
   "metadata": {},
   "outputs": [],
   "source": []
  }
 ],
 "metadata": {
  "kernelspec": {
   "display_name": "Python 3",
   "language": "python",
   "name": "python3"
  }
 },
 "nbformat": 4,
 "nbformat_minor": 5
}
