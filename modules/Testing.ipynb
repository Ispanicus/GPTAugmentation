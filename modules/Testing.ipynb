{
 "cells": [
  {
   "cell_type": "code",
   "execution_count": 1,
   "id": "9cbe698d-7b26-4e6c-9c73-e7ddd84b35a0",
   "metadata": {},
   "outputs": [],
   "source": [
    "from get_gpt_reviews import get_gpt_reviews"
   ]
  },
  {
   "cell_type": "code",
   "execution_count": 2,
   "id": "aa449bad-14a5-4d40-8340-61afe8bf045f",
   "metadata": {},
   "outputs": [
    {
     "name": "stdout",
     "output_type": "stream",
     "text": [
      "paths ['C:/Users/Vikto/Desktop/meh/NLPPhard/Data/gen_data/n_2000_size_30_0_0.028921786324062282.gpt', 'C:/Users/Vikto/Desktop/meh/NLPPhard/Data/gen_data/n_2000_size_30_0_0.09212712752157592.gpt', 'C:/Users/Vikto/Desktop/meh/NLPPhard/Data/gen_data/n_2000_size_30_0_0.12956281056312635.gpt', 'C:/Users/Vikto/Desktop/meh/NLPPhard/Data/gen_data/n_2000_size_30_0_0.16121996915775627.gpt', 'C:/Users/Vikto/Desktop/meh/NLPPhard/Data/gen_data/n_2000_size_30_0_0.2059797824256967.gpt', 'C:/Users/Vikto/Desktop/meh/NLPPhard/Data/gen_data/n_2000_size_30_0_0.5889247271480664.gpt', 'C:/Users/Vikto/Desktop/meh/NLPPhard/Data/gen_data/n_2000_size_30_0_0.6679940017895789.gpt', 'C:/Users/Vikto/Desktop/meh/NLPPhard/Data/gen_data/n_2000_size_30_0_0.705933929869709.gpt', 'C:/Users/Vikto/Desktop/meh/NLPPhard/Data/gen_data/n_2000_size_30_0_0.8555419731880556.gpt', 'C:/Users/Vikto/Desktop/meh/NLPPhard/Data/gen_data/n_2000_size_30_0_0.9644879361308978.gpt', 'C:/Users/Vikto/Desktop/meh/NLPPhard/Data/gen_data/n_2000_size_30_1_0.015164638646838258.gpt', 'C:/Users/Vikto/Desktop/meh/NLPPhard/Data/gen_data/n_2000_size_30_1_0.06220451235459956.gpt', 'C:/Users/Vikto/Desktop/meh/NLPPhard/Data/gen_data/n_2000_size_30_1_0.17765513001176447.gpt', 'C:/Users/Vikto/Desktop/meh/NLPPhard/Data/gen_data/n_2000_size_30_1_0.22857211965134017.gpt', 'C:/Users/Vikto/Desktop/meh/NLPPhard/Data/gen_data/n_2000_size_30_1_0.3371995954162893.gpt', 'C:/Users/Vikto/Desktop/meh/NLPPhard/Data/gen_data/n_2000_size_30_1_0.5663113053620341.gpt', 'C:/Users/Vikto/Desktop/meh/NLPPhard/Data/gen_data/n_2000_size_30_1_0.6584558684624098.gpt', 'C:/Users/Vikto/Desktop/meh/NLPPhard/Data/gen_data/n_2000_size_30_1_0.8037349398940932.gpt', 'C:/Users/Vikto/Desktop/meh/NLPPhard/Data/gen_data/n_2000_size_30_1_0.9537676451149237.gpt', 'C:/Users/Vikto/Desktop/meh/NLPPhard/Data/gen_data/n_2000_size_30_2_0.03411109781005772.gpt', 'C:/Users/Vikto/Desktop/meh/NLPPhard/Data/gen_data/n_2000_size_30_2_0.28719085640742015.gpt', 'C:/Users/Vikto/Desktop/meh/NLPPhard/Data/gen_data/n_2000_size_30_2_0.6747738798780868.gpt', 'C:/Users/Vikto/Desktop/meh/NLPPhard/Data/gen_data/n_2000_size_30_2_0.7037196265779893.gpt']\n"
     ]
    },
    {
     "data": {
      "text/html": [
       "<div>\n",
       "<style scoped>\n",
       "    .dataframe tbody tr th:only-of-type {\n",
       "        vertical-align: middle;\n",
       "    }\n",
       "\n",
       "    .dataframe tbody tr th {\n",
       "        vertical-align: top;\n",
       "    }\n",
       "\n",
       "    .dataframe thead th {\n",
       "        text-align: right;\n",
       "    }\n",
       "</style>\n",
       "<table border=\"1\" class=\"dataframe\">\n",
       "  <thead>\n",
       "    <tr style=\"text-align: right;\">\n",
       "      <th></th>\n",
       "      <th>reviewText</th>\n",
       "      <th>sentiment</th>\n",
       "    </tr>\n",
       "  </thead>\n",
       "  <tbody>\n",
       "    <tr>\n",
       "      <th>0</th>\n",
       "      <td>tot is a great album, but it took forever for ...</td>\n",
       "      <td>0</td>\n",
       "    </tr>\n",
       "    <tr>\n",
       "      <th>1</th>\n",
       "      <td>i really enjoy this album. it's not as good as...</td>\n",
       "      <td>0</td>\n",
       "    </tr>\n",
       "    <tr>\n",
       "      <th>2</th>\n",
       "      <td>this is a great album, and i love the song \"i'...</td>\n",
       "      <td>1</td>\n",
       "    </tr>\n",
       "    <tr>\n",
       "      <th>3</th>\n",
       "      <td>this album is great, although it is missing th...</td>\n",
       "      <td>1</td>\n",
       "    </tr>\n",
       "    <tr>\n",
       "      <th>4</th>\n",
       "      <td>the randy bachman albums that had the greatest...</td>\n",
       "      <td>1</td>\n",
       "    </tr>\n",
       "    <tr>\n",
       "      <th>...</th>\n",
       "      <td>...</td>\n",
       "      <td>...</td>\n",
       "    </tr>\n",
       "    <tr>\n",
       "      <th>11069</th>\n",
       "      <td>i have listened to this album over and over  a...</td>\n",
       "      <td>1</td>\n",
       "    </tr>\n",
       "    <tr>\n",
       "      <th>11070</th>\n",
       "      <td>this is one of my favorites.  i can't wait to ...</td>\n",
       "      <td>1</td>\n",
       "    </tr>\n",
       "    <tr>\n",
       "      <th>11071</th>\n",
       "      <td>i like john rich's music and he has brought so...</td>\n",
       "      <td>1</td>\n",
       "    </tr>\n",
       "    <tr>\n",
       "      <th>11072</th>\n",
       "      <td>this album is so good.  i love the whole album...</td>\n",
       "      <td>1</td>\n",
       "    </tr>\n",
       "    <tr>\n",
       "      <th>11073</th>\n",
       "      <td>i first heard john rich on the radio and i had...</td>\n",
       "      <td>1</td>\n",
       "    </tr>\n",
       "  </tbody>\n",
       "</table>\n",
       "<p>11074 rows × 2 columns</p>\n",
       "</div>"
      ],
      "text/plain": [
       "                                              reviewText  sentiment\n",
       "0      tot is a great album, but it took forever for ...          0\n",
       "1      i really enjoy this album. it's not as good as...          0\n",
       "2      this is a great album, and i love the song \"i'...          1\n",
       "3      this album is great, although it is missing th...          1\n",
       "4      the randy bachman albums that had the greatest...          1\n",
       "...                                                  ...        ...\n",
       "11069  i have listened to this album over and over  a...          1\n",
       "11070  this is one of my favorites.  i can't wait to ...          1\n",
       "11071  i like john rich's music and he has brought so...          1\n",
       "11072  this album is so good.  i love the whole album...          1\n",
       "11073  i first heard john rich on the radio and i had...          1\n",
       "\n",
       "[11074 rows x 2 columns]"
      ]
     },
     "execution_count": 2,
     "metadata": {},
     "output_type": "execute_result"
    }
   ],
   "source": [
    "get_gpt_reviews(2000)"
   ]
  },
  {
   "cell_type": "code",
   "execution_count": 1,
   "id": "76359ca0-6817-4b41-ba34-1430f92750d3",
   "metadata": {},
   "outputs": [],
   "source": [
    "from get_eda_reviews import get_eda_reviews"
   ]
  },
  {
   "cell_type": "code",
   "execution_count": 2,
   "id": "b289523b-25f0-4468-bbdf-d091e589abb0",
   "metadata": {},
   "outputs": [
    {
     "data": {
      "text/html": [
       "<div>\n",
       "<style scoped>\n",
       "    .dataframe tbody tr th:only-of-type {\n",
       "        vertical-align: middle;\n",
       "    }\n",
       "\n",
       "    .dataframe tbody tr th {\n",
       "        vertical-align: top;\n",
       "    }\n",
       "\n",
       "    .dataframe thead th {\n",
       "        text-align: right;\n",
       "    }\n",
       "</style>\n",
       "<table border=\"1\" class=\"dataframe\">\n",
       "  <thead>\n",
       "    <tr style=\"text-align: right;\">\n",
       "      <th></th>\n",
       "      <th>reviewText</th>\n",
       "      <th>sentiment</th>\n",
       "    </tr>\n",
       "  </thead>\n",
       "  <tbody>\n",
       "    <tr>\n",
       "      <th>0</th>\n",
       "      <td>i got this for a playlist i had to make not my...</td>\n",
       "      <td>0</td>\n",
       "    </tr>\n",
       "    <tr>\n",
       "      <th>1</th>\n",
       "      <td>i got this for a playlist i had to make not my...</td>\n",
       "      <td>0</td>\n",
       "    </tr>\n",
       "    <tr>\n",
       "      <th>2</th>\n",
       "      <td>i got this for a playlist i had to make not my...</td>\n",
       "      <td>0</td>\n",
       "    </tr>\n",
       "    <tr>\n",
       "      <th>3</th>\n",
       "      <td>i got this for a playlist i had to make not my...</td>\n",
       "      <td>0</td>\n",
       "    </tr>\n",
       "    <tr>\n",
       "      <th>4</th>\n",
       "      <td>cupful i got this for a playlist i had to make...</td>\n",
       "      <td>0</td>\n",
       "    </tr>\n",
       "    <tr>\n",
       "      <th>...</th>\n",
       "      <td>...</td>\n",
       "      <td>...</td>\n",
       "    </tr>\n",
       "    <tr>\n",
       "      <th>19995</th>\n",
       "      <td>another classic timeless hit of marvin gayes t...</td>\n",
       "      <td>1</td>\n",
       "    </tr>\n",
       "    <tr>\n",
       "      <th>19996</th>\n",
       "      <td>another classic timeless hit of marvin gayes t...</td>\n",
       "      <td>1</td>\n",
       "    </tr>\n",
       "    <tr>\n",
       "      <th>19997</th>\n",
       "      <td>another classic timeless gayes of i hit these ...</td>\n",
       "      <td>1</td>\n",
       "    </tr>\n",
       "    <tr>\n",
       "      <th>19998</th>\n",
       "      <td>another classic timeless to of marvin gayes me...</td>\n",
       "      <td>1</td>\n",
       "    </tr>\n",
       "    <tr>\n",
       "      <th>19999</th>\n",
       "      <td>another classic timeless hit of marvin gayes t...</td>\n",
       "      <td>1</td>\n",
       "    </tr>\n",
       "  </tbody>\n",
       "</table>\n",
       "<p>20000 rows × 2 columns</p>\n",
       "</div>"
      ],
      "text/plain": [
       "                                              reviewText sentiment\n",
       "0      i got this for a playlist i had to make not my...         0\n",
       "1      i got this for a playlist i had to make not my...         0\n",
       "2      i got this for a playlist i had to make not my...         0\n",
       "3      i got this for a playlist i had to make not my...         0\n",
       "4      cupful i got this for a playlist i had to make...         0\n",
       "...                                                  ...       ...\n",
       "19995  another classic timeless hit of marvin gayes t...         1\n",
       "19996  another classic timeless hit of marvin gayes t...         1\n",
       "19997  another classic timeless gayes of i hit these ...         1\n",
       "19998  another classic timeless to of marvin gayes me...         1\n",
       "19999  another classic timeless hit of marvin gayes t...         1\n",
       "\n",
       "[20000 rows x 2 columns]"
      ]
     },
     "execution_count": 2,
     "metadata": {},
     "output_type": "execute_result"
    }
   ],
   "source": [
    "get_eda_reviews(2000)"
   ]
  },
  {
   "cell_type": "code",
   "execution_count": 1,
   "id": "38cbe585-5044-4233-be09-8a8fa5cc1dd7",
   "metadata": {},
   "outputs": [],
   "source": [
    "from get_data import get_data"
   ]
  },
  {
   "cell_type": "code",
   "execution_count": 2,
   "id": "7080900f-9214-43dc-be79-69abdad35c12",
   "metadata": {},
   "outputs": [],
   "source": [
    "x,y = get_data(\"eda_500\")"
   ]
  },
  {
   "cell_type": "code",
   "execution_count": 5,
   "id": "ee25dddc-2005-468d-a876-1ca4a22910ce",
   "metadata": {},
   "outputs": [],
   "source": [
    "import os\n",
    "import re\n",
    "if \"\\\\\" in os.getcwd():\n",
    "    path = '\\\\'.join( os.getcwd().split('\\\\')[:-1] ) + f'\\\\Data\\\\subsets'\n",
    "else:\n",
    "    path = '/'.join(os.getcwd().split('/')[:-1] ) + '/Data/subsets'\n",
    "\n",
    "subsets = next(os.walk(path))[2]"
   ]
  },
  {
   "cell_type": "code",
   "execution_count": 10,
   "id": "3c8ff1e3-74b6-4409-a8d8-e40a613b3c6e",
   "metadata": {},
   "outputs": [
    {
     "data": {
      "text/plain": [
       "['n_10.txt', 'n_100.txt', 'n_2000.txt', 'n_50.txt', 'n_500.txt']"
      ]
     },
     "execution_count": 10,
     "metadata": {},
     "output_type": "execute_result"
    }
   ],
   "source": [
    "r = re.compile(r'n\\_[0-9]+\\.txt')\n",
    "list(filter(r.match, subsets))"
   ]
  },
  {
   "cell_type": "code",
   "execution_count": 11,
   "id": "545b4300-a210-4855-b5c4-05888abc726d",
   "metadata": {},
   "outputs": [],
   "source": [
    "import os\n",
    "\n",
    "if \"\\\\\" in os.getcwd():\n",
    "    path = '\\\\'.join( os.getcwd().split('\\\\')[:-1] ) + f'\\\\Data\\\\subsets'\n",
    "else:\n",
    "    path = '/'.join(os.getcwd().split('/')[:-1] ) + '/Data/subsets'\n",
    "\n",
    "subsets = next(os.walk(path))[2]\n",
    "r = re.compile(r'n\\_[0-9]+\\.txt')\n",
    "paths = [path.replace('\\\\', '/') + '/' + file for file in list(filter(r.match, subsets))]"
   ]
  },
  {
   "cell_type": "code",
   "execution_count": 12,
   "id": "d7c92715-a0f8-4990-8da5-846f29065c85",
   "metadata": {},
   "outputs": [
    {
     "data": {
      "text/plain": [
       "['C:/Users/Vikto/Desktop/meh/NLPPhard/Data/subsets/n_10.txt',\n",
       " 'C:/Users/Vikto/Desktop/meh/NLPPhard/Data/subsets/n_100.txt',\n",
       " 'C:/Users/Vikto/Desktop/meh/NLPPhard/Data/subsets/n_2000.txt',\n",
       " 'C:/Users/Vikto/Desktop/meh/NLPPhard/Data/subsets/n_50.txt',\n",
       " 'C:/Users/Vikto/Desktop/meh/NLPPhard/Data/subsets/n_500.txt']"
      ]
     },
     "execution_count": 12,
     "metadata": {},
     "output_type": "execute_result"
    }
   ],
   "source": [
    "paths"
   ]
  },
  {
   "cell_type": "code",
   "execution_count": 23,
   "id": "343c6c15-bd86-47f2-8614-907b40e06ed7",
   "metadata": {},
   "outputs": [
    {
     "name": "stdout",
     "output_type": "stream",
     "text": [
      "C:/Users/Vikto/Desktop/meh/NLPPhard/Data/subsets n_10.txt 10 C:/Users/Vikto/Desktop/meh/NLPPhard/Data/subsets/n_10.txt\n",
      "C:/Users/Vikto/Desktop/meh/NLPPhard/Data/subsets n_100.txt 100 C:/Users/Vikto/Desktop/meh/NLPPhard/Data/subsets/n_100.txt\n",
      "C:/Users/Vikto/Desktop/meh/NLPPhard/Data/subsets n_2000.txt 2000 C:/Users/Vikto/Desktop/meh/NLPPhard/Data/subsets/n_2000.txt\n",
      "C:/Users/Vikto/Desktop/meh/NLPPhard/Data/subsets n_50.txt 50 C:/Users/Vikto/Desktop/meh/NLPPhard/Data/subsets/n_50.txt\n",
      "C:/Users/Vikto/Desktop/meh/NLPPhard/Data/subsets n_500.txt 500 C:/Users/Vikto/Desktop/meh/NLPPhard/Data/subsets/n_500.txt\n",
      "C:/Users/Vikto/Desktop/meh/NLPPhard/Data/subsets n_10.txt 10 C:/Users/Vikto/Desktop/meh/NLPPhard/Data/subsets/n_10.txt\n",
      "C:/Users/Vikto/Desktop/meh/NLPPhard/Data/subsets n_100.txt 100 C:/Users/Vikto/Desktop/meh/NLPPhard/Data/subsets/n_100.txt\n",
      "C:/Users/Vikto/Desktop/meh/NLPPhard/Data/subsets n_2000.txt 2000 C:/Users/Vikto/Desktop/meh/NLPPhard/Data/subsets/n_2000.txt\n",
      "C:/Users/Vikto/Desktop/meh/NLPPhard/Data/subsets n_50.txt 50 C:/Users/Vikto/Desktop/meh/NLPPhard/Data/subsets/n_50.txt\n",
      "C:/Users/Vikto/Desktop/meh/NLPPhard/Data/subsets n_500.txt 500 C:/Users/Vikto/Desktop/meh/NLPPhard/Data/subsets/n_500.txt\n",
      "C:/Users/Vikto/Desktop/meh/NLPPhard/Data/subsets n_10.txt 10 C:/Users/Vikto/Desktop/meh/NLPPhard/Data/subsets/n_10.txt\n",
      "C:/Users/Vikto/Desktop/meh/NLPPhard/Data/subsets n_100.txt 100 C:/Users/Vikto/Desktop/meh/NLPPhard/Data/subsets/n_100.txt\n",
      "C:/Users/Vikto/Desktop/meh/NLPPhard/Data/subsets n_2000.txt 2000 C:/Users/Vikto/Desktop/meh/NLPPhard/Data/subsets/n_2000.txt\n",
      "C:/Users/Vikto/Desktop/meh/NLPPhard/Data/subsets n_50.txt 50 C:/Users/Vikto/Desktop/meh/NLPPhard/Data/subsets/n_50.txt\n",
      "C:/Users/Vikto/Desktop/meh/NLPPhard/Data/subsets n_500.txt 500 C:/Users/Vikto/Desktop/meh/NLPPhard/Data/subsets/n_500.txt\n",
      "C:/Users/Vikto/Desktop/meh/NLPPhard/Data/subsets n_10.txt 10 C:/Users/Vikto/Desktop/meh/NLPPhard/Data/subsets/n_10.txt\n",
      "C:/Users/Vikto/Desktop/meh/NLPPhard/Data/subsets n_100.txt 100 C:/Users/Vikto/Desktop/meh/NLPPhard/Data/subsets/n_100.txt\n",
      "C:/Users/Vikto/Desktop/meh/NLPPhard/Data/subsets n_2000.txt 2000 C:/Users/Vikto/Desktop/meh/NLPPhard/Data/subsets/n_2000.txt\n",
      "C:/Users/Vikto/Desktop/meh/NLPPhard/Data/subsets n_50.txt 50 C:/Users/Vikto/Desktop/meh/NLPPhard/Data/subsets/n_50.txt\n",
      "C:/Users/Vikto/Desktop/meh/NLPPhard/Data/subsets n_500.txt 500 C:/Users/Vikto/Desktop/meh/NLPPhard/Data/subsets/n_500.txt\n",
      "C:/Users/Vikto/Desktop/meh/NLPPhard/Data/subsets n_10.txt 10 C:/Users/Vikto/Desktop/meh/NLPPhard/Data/subsets/n_10.txt\n",
      "C:/Users/Vikto/Desktop/meh/NLPPhard/Data/subsets n_100.txt 100 C:/Users/Vikto/Desktop/meh/NLPPhard/Data/subsets/n_100.txt\n",
      "C:/Users/Vikto/Desktop/meh/NLPPhard/Data/subsets n_2000.txt 2000 C:/Users/Vikto/Desktop/meh/NLPPhard/Data/subsets/n_2000.txt\n",
      "C:/Users/Vikto/Desktop/meh/NLPPhard/Data/subsets n_50.txt 50 C:/Users/Vikto/Desktop/meh/NLPPhard/Data/subsets/n_50.txt\n",
      "C:/Users/Vikto/Desktop/meh/NLPPhard/Data/subsets n_500.txt 500 C:/Users/Vikto/Desktop/meh/NLPPhard/Data/subsets/n_500.txt\n"
     ]
    }
   ],
   "source": [
    "import os\n",
    "import re\n",
    "import subset_file_paths\n",
    "if \"\\\\\" in os.getcwd():\n",
    "    path = '\\\\'.join( os.getcwd().split('\\\\')[:-1] ) + f'\\\\Data\\\\subsets'\n",
    "else:\n",
    "    path = '/'.join(os.getcwd().split('/')[:-1] ) + '/Data/subsets'\n",
    "for augs in [64,32,16,8,4]:\n",
    "    for path in subset_file_paths.paths:\n",
    "        *localPath, meh =  path.split(\"/\")\n",
    "        localPath = \"/\".join(localPath)\n",
    "        n = int(re.findall(r'[0-9]+', meh)[0])\n",
    "        print(localPath, meh, n, path)"
   ]
  },
  {
   "cell_type": "code",
   "execution_count": null,
   "id": "1d3f81d3-7551-41c6-953f-7e529285fc4b",
   "metadata": {},
   "outputs": [],
   "source": []
  }
 ],
 "metadata": {
  "kernelspec": {
   "display_name": "Python 3",
   "language": "python",
   "name": "python3"
  },
  "language_info": {
   "codemirror_mode": {
    "name": "ipython",
    "version": 3
   },
   "file_extension": ".py",
   "mimetype": "text/x-python",
   "name": "python",
   "nbconvert_exporter": "python",
   "pygments_lexer": "ipython3",
   "version": "3.7.3"
  }
 },
 "nbformat": 4,
 "nbformat_minor": 5
}
