{
 "cells": [
  {
   "cell_type": "code",
   "execution_count": 2,
   "metadata": {},
   "outputs": [
    {
     "name": "stdout",
     "output_type": "stream",
     "text": [
      "\n",
      "Producing subset for size: 100\n",
      "Found short sentences: 201\n",
      "\n",
      "Producing subset for size: 500\n",
      "Found short sentences: 951\n",
      "\n",
      "Producing subset for size: 2000\n",
      "Found short sentences: 3730\n"
     ]
    }
   ],
   "source": [
    "from get_data import get_data\n",
    "import pandas as pd\n",
    "from random import sample\n",
    "import re\n",
    "import os\n",
    "\n",
    "X, y = get_data()\n",
    "\n",
    "\n",
    "X = pd.DataFrame(X, columns = [\"reviewText\"])\n",
    "y = pd.Series(y)\n",
    "\n",
    "\n",
    "y = y.where(X.reviewText.str.contains(r'[a-zA-Z]'))\n",
    "X = X.where(X.reviewText.str.contains(r'[a-zA-Z]'))\n",
    "X = X.reviewText.str.replace('\\n', ' ')\n",
    "\n",
    "\n",
    "\n",
    "ranges = [100, 500, 2000]\n",
    "\n",
    "neg = X[y == 0]\n",
    "pos = X[y == 1]\n",
    "\n",
    "for r in ranges:\n",
    "    print('\\nProducing subset for size:', r)\n",
    "    r = r*10\n",
    "    text_neg = sample(list(neg), r//2)\n",
    "    text_neg = [\"0\"+x for x in text_neg]\n",
    "    text_pos = sample(list(pos), r//2)\n",
    "    text_pos = [\"1\"+x for x in text_pos]\n",
    "    text = text_neg+text_pos\n",
    "    \n",
    "    pattern1 = re.compile(r'([^0-9a-zA-Z\\s])\\1+(?=[a-z0-9A-Z])')\n",
    "    pattern2 = re.compile(r'([^0-9a-zA-Z\\s])\\1+')\n",
    "    pattern3 = re.compile(r'<[^>]>')\n",
    "    for i, t in enumerate(text):\n",
    "        t = re.sub(pattern1, r'\\1 ', t)\n",
    "        t = re.sub(pattern2, r'\\1', t)\n",
    "        t = re.sub(pattern3, r'', t)\n",
    "        text[i] = t\n",
    "\n",
    "\n",
    "    # fix \"...blabl -> ... blabl\" and reduce \"... -> .\"\n",
    "    s_before = len(text)\n",
    "    text[:] = filter(lambda sen: len(sen) <= 35, text)\n",
    "    print('Found short sentences:',len(text))\n",
    "    \n",
    "    r = r//10\n",
    "    df = get_data(\"n_{}\".format(r))\n",
    "    c = Counter(df[\"sentiment\"])\n",
    "    missing_neg = r//2 - c[\"0\"]\n",
    "    missing_pos = r//2 - c[\"1\"]\n",
    "    #\"incase one is negative\"\n",
    "    if missing_neg < 0:\n",
    "        missing_pos -= abs(missing_neg)\n",
    "        missing_neg = 0\n",
    "    elif missing_pos < 0:\n",
    "        missing_neg -= abs(missing_pos)\n",
    "        missing_pos = 0\n",
    "    cwd = os.getcwd().replace(\"\\\\\", \"/\") \n",
    "    with open(f'../Data/subsets/n_{r}.txt', 'a') as f:\n",
    "        for i in text:\n",
    "            label = i[0]\n",
    "            hue = i[1:]\n",
    "            if label == \"0\" and missing_neg > 0:\n",
    "                f.write(f'{label}\\t{hue}\\n')\n",
    "                missing_neg -= 1\n",
    "            if label == \"1\" and missing_pos > 0:\n",
    "                f.write(f'{label}\\t{hue}\\n')\n",
    "                missing_pos -= 1\n",
    "\n",
    "    "
   ]
  },
  {
   "cell_type": "code",
   "execution_count": 3,
   "metadata": {},
   "outputs": [
    {
     "name": "stdout",
     "output_type": "stream",
     "text": [
      "0 0\n"
     ]
    }
   ],
   "source": [
    "from get_data import get_data\n",
    "from collections import Counter\n",
    "ranges = 500\n",
    "df = get_data(type = \"n_500\")\n",
    "c = Counter (df[\"sentiment\"])\n",
    "missing_neg = ranges//2 - c[\"0\"]\n",
    "missing_pos = ranges//2 - c[\"1\"]\n",
    "\n",
    "print(missing_neg, missing_pos)\n",
    "    \n",
    "        \n"
   ]
  },
  {
   "cell_type": "code",
   "execution_count": 18,
   "metadata": {},
   "outputs": [],
   "source": [
    "X, Y = get_data()"
   ]
  },
  {
   "cell_type": "code",
   "execution_count": 21,
   "metadata": {},
   "outputs": [],
   "source": [
    "import pandas as pd"
   ]
  },
  {
   "cell_type": "code",
   "execution_count": 28,
   "metadata": {},
   "outputs": [],
   "source": [
    "X = pd.DataFrame(X, columns = [\"reviewText\"])"
   ]
  },
  {
   "cell_type": "code",
   "execution_count": 50,
   "metadata": {},
   "outputs": [
    {
     "data": {
      "text/plain": [
       "'C:/Users/Vikto/Desktop/meh/NLPPhard/modules/Data/subsets/n_100_for_gpt.txt'"
      ]
     },
     "execution_count": 50,
     "metadata": {},
     "output_type": "execute_result"
    }
   ],
   "source": [
    "cwd = os.getcwd().replace(\"\\\\\", \"/\")\n",
    "f'{cwd}/Data/subsets/n_{r}_for_gpt.txt'"
   ]
  },
  {
   "cell_type": "code",
   "execution_count": 9,
   "metadata": {},
   "outputs": [],
   "source": [
    "df = get_data(\"n_100\")"
   ]
  },
  {
   "cell_type": "code",
   "execution_count": 12,
   "metadata": {},
   "outputs": [
    {
     "data": {
      "text/html": [
       "<div>\n",
       "<style scoped>\n",
       "    .dataframe tbody tr th:only-of-type {\n",
       "        vertical-align: middle;\n",
       "    }\n",
       "\n",
       "    .dataframe tbody tr th {\n",
       "        vertical-align: top;\n",
       "    }\n",
       "\n",
       "    .dataframe thead th {\n",
       "        text-align: right;\n",
       "    }\n",
       "</style>\n",
       "<table border=\"1\" class=\"dataframe\">\n",
       "  <thead>\n",
       "    <tr style=\"text-align: right;\">\n",
       "      <th></th>\n",
       "      <th>sentiment</th>\n",
       "      <th>reviewText</th>\n",
       "    </tr>\n",
       "  </thead>\n",
       "  <tbody>\n",
       "    <tr>\n",
       "      <th>0</th>\n",
       "      <td>0</td>\n",
       "      <td>It did not download easily and it still have n...</td>\n",
       "    </tr>\n",
       "    <tr>\n",
       "      <th>1</th>\n",
       "      <td>1</td>\n",
       "      <td>['0Loosing their touch.', '0Wonderful cd.  Ama...</td>\n",
       "    </tr>\n",
       "    <tr>\n",
       "      <th>2</th>\n",
       "      <td>0</td>\n",
       "      <td>no windows phone support, last thing im buying...</td>\n",
       "    </tr>\n",
       "    <tr>\n",
       "      <th>3</th>\n",
       "      <td>0</td>\n",
       "      <td>\"Arkansas\" is the backside filler of 45 single...</td>\n",
       "    </tr>\n",
       "    <tr>\n",
       "      <th>4</th>\n",
       "      <td>1</td>\n",
       "      <td>Love this song and the sound quality is great.</td>\n",
       "    </tr>\n",
       "    <tr>\n",
       "      <th>...</th>\n",
       "      <td>...</td>\n",
       "      <td>...</td>\n",
       "    </tr>\n",
       "    <tr>\n",
       "      <th>95</th>\n",
       "      <td>1</td>\n",
       "      <td>['0Loosing their touch.', '0Wonderful cd.  Ama...</td>\n",
       "    </tr>\n",
       "    <tr>\n",
       "      <th>96</th>\n",
       "      <td>0</td>\n",
       "      <td>Sounds like Sam Sparro's \"Black and Gold\" but ...</td>\n",
       "    </tr>\n",
       "    <tr>\n",
       "      <th>97</th>\n",
       "      <td>0</td>\n",
       "      <td>It's not the version I heard when I was little...</td>\n",
       "    </tr>\n",
       "    <tr>\n",
       "      <th>98</th>\n",
       "      <td>1</td>\n",
       "      <td>Great variety of songs with this album. Nice t...</td>\n",
       "    </tr>\n",
       "    <tr>\n",
       "      <th>99</th>\n",
       "      <td>0</td>\n",
       "      <td>Is this an April Fools Day joke?  I ask that b...</td>\n",
       "    </tr>\n",
       "  </tbody>\n",
       "</table>\n",
       "<p>100 rows × 2 columns</p>\n",
       "</div>"
      ],
      "text/plain": [
       "   sentiment                                         reviewText\n",
       "0          0  It did not download easily and it still have n...\n",
       "1          1  ['0Loosing their touch.', '0Wonderful cd.  Ama...\n",
       "2          0  no windows phone support, last thing im buying...\n",
       "3          0  \"Arkansas\" is the backside filler of 45 single...\n",
       "4          1     Love this song and the sound quality is great.\n",
       "..       ...                                                ...\n",
       "95         1  ['0Loosing their touch.', '0Wonderful cd.  Ama...\n",
       "96         0  Sounds like Sam Sparro's \"Black and Gold\" but ...\n",
       "97         0  It's not the version I heard when I was little...\n",
       "98         1  Great variety of songs with this album. Nice t...\n",
       "99         0  Is this an April Fools Day joke?  I ask that b...\n",
       "\n",
       "[100 rows x 2 columns]"
      ]
     },
     "execution_count": 12,
     "metadata": {},
     "output_type": "execute_result"
    }
   ],
   "source": [
    "df"
   ]
  },
  {
   "cell_type": "code",
   "execution_count": null,
   "metadata": {},
   "outputs": [],
   "source": []
  }
 ],
 "metadata": {
  "kernelspec": {
   "display_name": "Python 3",
   "language": "python",
   "name": "python3"
  },
  "language_info": {
   "codemirror_mode": {
    "name": "ipython",
    "version": 3
   },
   "file_extension": ".py",
   "mimetype": "text/x-python",
   "name": "python",
   "nbconvert_exporter": "python",
   "pygments_lexer": "ipython3",
   "version": "3.8.3"
  }
 },
 "nbformat": 4,
 "nbformat_minor": 4
}
