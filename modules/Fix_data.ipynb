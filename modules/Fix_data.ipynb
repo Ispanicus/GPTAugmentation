{
 "cells": [
  {
   "cell_type": "code",
   "execution_count": 2,
   "metadata": {},
   "outputs": [
    {
     "name": "stdout",
     "output_type": "stream",
     "text": [
      "\n",
      "Producing subset for size: 100\n",
      "Found short sentences: 201\n",
      "\n",
      "Producing subset for size: 500\n",
      "Found short sentences: 951\n",
      "\n",
      "Producing subset for size: 2000\n",
      "Found short sentences: 3730\n"
     ]
    }
   ],
   "source": [
    "from get_data import get_data\n",
    "import pandas as pd\n",
    "from random import sample\n",
    "import re\n",
    "import os\n",
    "\n",
    "X, y = get_data()\n",
    "\n",
    "\n",
    "X = pd.DataFrame(X, columns = [\"reviewText\"])\n",
    "y = pd.Series(y)\n",
    "\n",
    "\n",
    "y = y.where(X.reviewText.str.contains(r'[a-zA-Z]'))\n",
    "X = X.where(X.reviewText.str.contains(r'[a-zA-Z]'))\n",
    "X = X.reviewText.str.replace('\\n', ' ')\n",
    "\n",
    "\n",
    "\n",
    "ranges = [100, 500, 2000]\n",
    "\n",
    "neg = X[y == 0]\n",
    "pos = X[y == 1]\n",
    "\n",
    "for r in ranges:\n",
    "    print('\\nProducing subset for size:', r)\n",
    "    r = r*10\n",
    "    text_neg = sample(list(neg), r//2)\n",
    "    text_neg = [\"0\"+x for x in text_neg]\n",
    "    text_pos = sample(list(pos), r//2)\n",
    "    text_pos = [\"1\"+x for x in text_pos]\n",
    "    text = text_neg+text_pos\n",
    "    \n",
    "    pattern1 = re.compile(r'([^0-9a-zA-Z\\s])\\1+(?=[a-z0-9A-Z])')\n",
    "    pattern2 = re.compile(r'([^0-9a-zA-Z\\s])\\1+')\n",
    "    pattern3 = re.compile(r'<[^>]>')\n",
    "    for i, t in enumerate(text):\n",
    "        t = re.sub(pattern1, r'\\1 ', t)\n",
    "        t = re.sub(pattern2, r'\\1', t)\n",
    "        t = re.sub(pattern3, r'', t)\n",
    "        text[i] = t\n",
    "\n",
    "\n",
    "    # fix \"...blabl -> ... blabl\" and reduce \"... -> .\"\n",
    "    s_before = len(text)\n",
    "    text[:] = filter(lambda sen: len(sen) <= 35, text)\n",
    "    print('Found short sentences:',len(text))\n",
    "    \n",
    "    r = r//10\n",
    "    df = get_data(\"n_{}\".format(r))\n",
    "    c = Counter(df[\"sentiment\"])\n",
    "    missing_neg = r//2 - c[\"0\"]\n",
    "    missing_pos = r//2 - c[\"1\"]\n",
    "    #\"incase one is negative\"\n",
    "    if missing_neg < 0:\n",
    "        missing_pos -= abs(missing_neg)\n",
    "        missing_neg = 0\n",
    "    elif missing_pos < 0:\n",
    "        missing_neg -= abs(missing_pos)\n",
    "        missing_pos = 0\n",
    "    cwd = os.getcwd().replace(\"\\\\\", \"/\") \n",
    "    with open(f'../Data/subsets/n_{r}.txt', 'a') as f:\n",
    "        for i in text:\n",
    "            label = i[0]\n",
    "            hue = i[1:]\n",
    "            if label == \"0\" and missing_neg > 0:\n",
    "                f.write(f'{label}\\t{hue}\\n')\n",
    "                missing_neg -= 1\n",
    "            if label == \"1\" and missing_pos > 0:\n",
    "                f.write(f'{label}\\t{hue}\\n')\n",
    "                missing_pos -= 1\n",
    "\n",
    "    "
   ]
  },
  {
   "cell_type": "code",
   "execution_count": 3,
   "metadata": {},
   "outputs": [
    {
     "name": "stdout",
     "output_type": "stream",
     "text": [
      "0 0\n"
     ]
    }
   ],
   "source": [
    "from get_data import get_data\n",
    "from collections import Counter\n",
    "ranges = 500\n",
    "df = get_data(type = \"n_500\")\n",
    "c = Counter (df[\"sentiment\"])\n",
    "missing_neg = ranges//2 - c[\"0\"]\n",
    "missing_pos = ranges//2 - c[\"1\"]\n",
    "\n",
    "print(missing_neg, missing_pos)\n",
    "    \n",
    "        \n"
   ]
  },
  {
   "cell_type": "code",
   "execution_count": 18,
   "metadata": {},
   "outputs": [],
   "source": [
    "X, Y = get_data()"
   ]
  },
  {
   "cell_type": "code",
   "execution_count": 21,
   "metadata": {},
   "outputs": [],
   "source": [
    "import pandas as pd"
   ]
  },
  {
   "cell_type": "code",
   "execution_count": 28,
   "metadata": {},
   "outputs": [],
   "source": [
    "X = pd.DataFrame(X, columns = [\"reviewText\"])"
   ]
  },
  {
   "cell_type": "code",
   "execution_count": 50,
   "metadata": {},
   "outputs": [
    {
     "data": {
      "text/plain": [
       "'C:/Users/Vikto/Desktop/meh/NLPPhard/modules/Data/subsets/n_100_for_gpt.txt'"
      ]
     },
     "execution_count": 50,
     "metadata": {},
     "output_type": "execute_result"
    }
   ],
   "source": [
    "cwd = os.getcwd().replace(\"\\\\\", \"/\")\n",
    "f'{cwd}/Data/subsets/n_{r}_for_gpt.txt'"
   ]
  },
  {
   "cell_type": "code",
   "execution_count": 9,
   "metadata": {},
   "outputs": [],
   "source": [
    "df = get_data(\"n_100\")"
   ]
  },
  {
   "cell_type": "code",
   "execution_count": 1,
   "metadata": {},
   "outputs": [
    {
     "data": {
      "text/plain": [
       "(['Sigh. Conor, what happened?  For the past decade you\\'ve given us the most amazing lyrics, the most stripped down (or fancifully gussied up) tunes and then you go and drop this mess on us?  Your albums prior to this have all been brilliant in their own unique way but \"The People\\'s Key\" does nothing to advance the dialogue...stilted lyrics, out of place electro effects and a rambling, incoherent vein throughout make this one to pass on and pretend it never happened.  A little more restraint in the studio would be greatly appreciated next time around, gentlemen.  Signed, Someone who gave all your other albums 5 stars and would have given \"Lifted\" 6 stars if that were possible.  Your well earned 1 star ranking reflects both the quality of the music as well as the overwhelming let-down factor.',\n",
       "  \"man zapp was funky from the start discovered by bootsy collins and promoted by george clinton these boys couldn't help but be funky and set the world on fire cause more bounce had everybody bugging out in the 80's and one of the most sampled songs in history next to atomic dog. brand new p player and be alright is some monster funk as well funky bounce feratures bootsy baby. a funkateer ain't funkin with the right stuff if he doesn't have this in his collection.\",\n",
       "  \"Lovely song presented with a poet's flair.  Truly unique singer.  You feel as if Joe is singing in you own house to you.\",\n",
       "  'It never downloaded',\n",
       "  \"I like the Dave Clark Five enough to want to have as many CDs by them as possible. I like all their songs they did in the 1960's.\",\n",
       "  'not what I expected ..........',\n",
       "  'I LOVE THIS EVERY SONG.',\n",
       "  \"I love Randy Travis' voice. To bad he gave up.\",\n",
       "  'not used',\n",
       "  'No comment.'],\n",
       " [0, 1, 1, 0, 1, 0, 1, 1, 0, 0])"
      ]
     },
     "execution_count": 1,
     "metadata": {},
     "output_type": "execute_result"
    }
   ],
   "source": [
    "from get_data import get_data\n",
    "get_data(type = \"gpt_10\")"
   ]
  },
  {
   "cell_type": "code",
   "execution_count": 1,
   "metadata": {},
   "outputs": [],
   "source": [
    "from clean_data import clean_eda"
   ]
  },
  {
   "cell_type": "code",
   "execution_count": 3,
   "metadata": {},
   "outputs": [],
   "source": [
    "clean_eda()"
   ]
  },
  {
   "cell_type": "code",
   "execution_count": null,
   "metadata": {},
   "outputs": [],
   "source": []
  }
 ],
 "metadata": {
  "kernelspec": {
   "display_name": "Python 3",
   "language": "python",
   "name": "python3"
  },
  "language_info": {
   "codemirror_mode": {
    "name": "ipython",
    "version": 3
   },
   "file_extension": ".py",
   "mimetype": "text/x-python",
   "name": "python",
   "nbconvert_exporter": "python",
   "pygments_lexer": "ipython3",
   "version": "3.7.3"
  }
 },
 "nbformat": 4,
 "nbformat_minor": 4
}
