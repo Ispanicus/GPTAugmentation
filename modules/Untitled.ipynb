{
 "cells": [
  {
   "cell_type": "code",
   "execution_count": 2,
   "metadata": {},
   "outputs": [],
   "source": [
    "from get_eda_reviews import get_eda_reviews\n",
    "from get_data import get_data"
   ]
  },
  {
   "cell_type": "code",
   "execution_count": 3,
   "metadata": {},
   "outputs": [
    {
     "name": "stdout",
     "output_type": "stream",
     "text": [
      "                                           reviewText sentiment\n",
      "0   sigh conor what happened for the past decade y...         0\n",
      "1   sigh conor what hap for the preceding decade y...         0\n",
      "2   sigh conor what happened for the past decade y...         0\n",
      "3   sigh conor happened for the past decade youve ...         0\n",
      "4   sigh conor what happened for the past decade y...         0\n",
      "5                                         not utilize         0\n",
      "6                                           not apply         0\n",
      "7                                    not utilize used         0\n",
      "8                                            not used         0\n",
      "9                                            not used         0\n",
      "10                                not what expected i         0\n",
      "11                        not what i gestate expected         0\n",
      "12                                expected what i not         0\n",
      "13                                 not what i require         0\n",
      "14                               not what i expected          0\n",
      "15                                                 no         0\n",
      "16                                         comment no         0\n",
      "17                                  no notice comment         0\n",
      "18                                                 no         0\n",
      "19                                        no comment          0\n",
      "20                                  it never download         0\n",
      "21                                downloaded never it         0\n",
      "22                                it never downloaded         0\n",
      "23         information technology it never downloaded         0\n",
      "24                                it never downloaded         0\n",
      "25  the sing is fun the there is a great that danc...         0\n",
      "26  the sing is playfulness and there is a great l...         0\n",
      "27  the sing is fun sport and there is sport a gre...         0\n",
      "28  the sing is fun and there is a great pedigree ...         0\n",
      "29  the sing is fun and there is a great line danc...         0\n",
      "30  man zapp was funky from the start discovered b...         1\n",
      "31  man zapp was funky from s start discovered fun...         1\n",
      "32  man zapp was funky from the start discovered b...         1\n",
      "33  man well was funky from the start discovered b...         1\n",
      "34  man zapp was funky from the start discovered b...         1\n",
      "35        i love randy travis gave to bad he voice up         1\n",
      "36           i love randy travis voice to bad gave up         1\n",
      "37  i love randy travis atomic number voice to bad...         1\n",
      "38        i love randy travis voice to bad he gave up         1\n",
      "39       i love randy travis voice to bad he gave up          1\n",
      "40                             i love this every song         1\n",
      "41                             love i this every song         1\n",
      "42                                        i love song         1\n",
      "43                             i love this every song         1\n",
      "44                            i love this every song          1\n",
      "45  lovely song presented with represent a poets f...         1\n",
      "46  lovely sung stage with a poets flair truly uni...         1\n",
      "47  lovely song presented feel a poets flair truly...         1\n",
      "48  lovely song presented with a flair truly uniqu...         1\n",
      "49  lovely song presented with a poets flair truly...         1\n",
      "Empty DataFrame\n",
      "Columns: [reviewText, sentiment]\n",
      "Index: []\n"
     ]
    },
    {
     "data": {
      "text/plain": [
       "(['Sigh. Conor, what happened?  For the past decade you\\'ve given us the most amazing lyrics, the most stripped down (or fancifully gussied up) tunes and then you go and drop this mess on us?  Your albums prior to this have all been brilliant in their own unique way but \"The People\\'s Key\" does nothing to advance the dialogue...stilted lyrics, out of place electro effects and a rambling, incoherent vein throughout make this one to pass on and pretend it never happened.  A little more restraint in the studio would be greatly appreciated next time around, gentlemen.  Signed, Someone who gave all your other albums 5 stars and would have given \"Lifted\" 6 stars if that were possible.  Your well earned 1 star ranking reflects both the quality of the music as well as the overwhelming let-down factor.',\n",
       "  'not what I expected ..........',\n",
       "  \"man zapp was funky from the start discovered by bootsy collins and promoted by george clinton these boys couldn't help but be funky and set the world on fire cause more bounce had everybody bugging out in the 80's and one of the most sampled songs in history next to atomic dog. brand new p player and be alright is some monster funk as well funky bounce feratures bootsy baby. a funkateer ain't funkin with the right stuff if he doesn't have this in his collection.\",\n",
       "  'It never downloaded',\n",
       "  'not used',\n",
       "  \"I love Randy Travis' voice. To bad he gave up.\",\n",
       "  \"Lovely song presented with a poet's flair.  Truly unique singer.  You feel as if Joe is singing in you own house to you.\",\n",
       "  'No comment.',\n",
       "  'I LOVE THIS EVERY SONG.',\n",
       "  \"I like the Dave Clark Five enough to want to have as many CDs by them as possible. I like all their songs they did in the 1960's.\"],\n",
       " [0, 0, 1, 0, 0, 1, 1, 0, 1, 1])"
      ]
     },
     "execution_count": 3,
     "metadata": {},
     "output_type": "execute_result"
    }
   ],
   "source": [
    "get_data(\"eda_augs_4_n_10\")"
   ]
  },
  {
   "cell_type": "code",
   "execution_count": 4,
   "metadata": {},
   "outputs": [],
   "source": [
    "x = get_eda_reviews(10, 4)"
   ]
  },
  {
   "cell_type": "code",
   "execution_count": 11,
   "metadata": {},
   "outputs": [],
   "source": [
    "def even_distribution(X):\n",
    "    positive = sum(X['sentiment'] == 1)\n",
    "    L = min(positive, len(X) - positive)\n",
    "    print(X[X.sentiment == 0])\n",
    "    X = X[X.sentiment == 0][:L].append(X[X.sentiment == 1][:L]) # Ensure even distribution\n",
    "    print(X)\n",
    "    X = X.sample(frac = 1) # Shuffle\n",
    "    return X"
   ]
  },
  {
   "cell_type": "code",
   "execution_count": 12,
   "metadata": {},
   "outputs": [
    {
     "name": "stdout",
     "output_type": "stream",
     "text": [
      "Empty DataFrame\n",
      "Columns: [reviewText, sentiment]\n",
      "Index: []\n",
      "Empty DataFrame\n",
      "Columns: [reviewText, sentiment]\n",
      "Index: []\n"
     ]
    },
    {
     "data": {
      "text/html": [
       "<div>\n",
       "<style scoped>\n",
       "    .dataframe tbody tr th:only-of-type {\n",
       "        vertical-align: middle;\n",
       "    }\n",
       "\n",
       "    .dataframe tbody tr th {\n",
       "        vertical-align: top;\n",
       "    }\n",
       "\n",
       "    .dataframe thead th {\n",
       "        text-align: right;\n",
       "    }\n",
       "</style>\n",
       "<table border=\"1\" class=\"dataframe\">\n",
       "  <thead>\n",
       "    <tr style=\"text-align: right;\">\n",
       "      <th></th>\n",
       "      <th>reviewText</th>\n",
       "      <th>sentiment</th>\n",
       "    </tr>\n",
       "  </thead>\n",
       "  <tbody>\n",
       "  </tbody>\n",
       "</table>\n",
       "</div>"
      ],
      "text/plain": [
       "Empty DataFrame\n",
       "Columns: [reviewText, sentiment]\n",
       "Index: []"
      ]
     },
     "execution_count": 12,
     "metadata": {},
     "output_type": "execute_result"
    }
   ],
   "source": [
    "even_distribution(x)"
   ]
  },
  {
   "cell_type": "code",
   "execution_count": null,
   "metadata": {},
   "outputs": [],
   "source": []
  }
 ],
 "metadata": {
  "kernelspec": {
   "display_name": "Python 3",
   "language": "python",
   "name": "python3"
  },
  "language_info": {
   "codemirror_mode": {
    "name": "ipython",
    "version": 3
   },
   "file_extension": ".py",
   "mimetype": "text/x-python",
   "name": "python",
   "nbconvert_exporter": "python",
   "pygments_lexer": "ipython3",
   "version": "3.8.3"
  }
 },
 "nbformat": 4,
 "nbformat_minor": 4
}
