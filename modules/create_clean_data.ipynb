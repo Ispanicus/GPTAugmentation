{
 "cells": [
  {
   "cell_type": "code",
   "execution_count": 48,
   "id": "38cbe585-5044-4233-be09-8a8fa5cc1dd7",
   "metadata": {},
   "outputs": [],
   "source": [
    "from get_data import get_data\n",
    "from get_gpt_reviews import get_gpt_reviews\n",
    "import os"
   ]
  },
  {
   "cell_type": "code",
   "execution_count": 45,
   "id": "fb80ee83-3819-4332-bffb-143a5ab993a8",
   "metadata": {},
   "outputs": [],
   "source": [
    "#Create clean N_x\n",
    "current_path = os.getcwd().replace(\"\\\\\", \"/\")\n",
    "current_path = current_path.split(\"/\")[:-1]\n",
    "current_path.extend([\"Data\", \"clean_data\", \"subsets\"])\n",
    "current_path = \"/\".join(current_path)\n",
    "ranges = [10,50,100,500,2000]\n",
    "for r in ranges:\n",
    "    X,Y = get_data(f\"n_{r}\", early_return = False, cleanText = True)\n",
    "    with open(f\"{current_path}/n_{r}.txt\", \"w\", encoding = \"utf-8\") as f:\n",
    "        for x,y in zip(X,Y):\n",
    "            f.write(f\"{y}\\t{x}\\n\")"
   ]
  },
  {
   "cell_type": "code",
   "execution_count": 46,
   "id": "444d9bee-cad5-4425-930c-564091529414",
   "metadata": {},
   "outputs": [],
   "source": [
    "#Create clean GPT\n",
    "current_path = os.getcwd().replace(\"\\\\\", \"/\")\n",
    "current_path = current_path.split(\"/\")[:-1]\n",
    "current_path.extend([\"Data\", \"clean_data\", \"gpt\"])\n",
    "current_path = \"/\".join(current_path)\n",
    "ranges = [10,50,100,500,2000]\n",
    "for r in ranges:\n",
    "    X,Y = get_data(f\"gpt_{r}\", cleanText = True)\n",
    "    X = X[:-r]\n",
    "    Y = Y[:-r]\n",
    "    with open(f\"{current_path}/gpt_{r}.txt\", \"w\", encoding = \"utf-8\") as f:\n",
    "        for x,y in zip(X,Y):\n",
    "            f.write(f\"{y}\\t{x}\\n\")"
   ]
  },
  {
   "cell_type": "code",
   "execution_count": 50,
   "id": "50d82232-5197-4868-8e60-32fee3a0cbba",
   "metadata": {},
   "outputs": [],
   "source": [
    "#Create clean EDA\n",
    "current_path = os.getcwd().replace(\"\\\\\", \"/\")\n",
    "current_path = current_path.split(\"/\")[:-1]\n",
    "current_path.extend([\"Data\", \"clean_data\", \"eda\"])\n",
    "current_path = \"/\".join(current_path)\n",
    "ranges = [10,50,100,500,2000]\n",
    "augs = [4,8,16,32,64]\n",
    "for r in ranges:\n",
    "    for aug in augs:\n",
    "        X,Y = get_data(f\"eda_augs_{aug}_n_{r}\", cleanText = True)\n",
    "        X = X[:-r]\n",
    "        Y = Y[:-r]\n",
    "        with open(f\"{current_path}/augs_{aug}_n_{r}.txt\", \"w\", encoding = \"utf-8\") as f:\n",
    "            for x,y in zip(X,Y):\n",
    "                f.write(f\"{y}\\t{x}\\n\")"
   ]
  },
  {
   "cell_type": "code",
   "execution_count": null,
   "id": "7f2325e1-5329-4f30-9cb8-42481c363ffa",
   "metadata": {},
   "outputs": [],
   "source": []
  }
 ],
 "metadata": {
  "kernelspec": {
   "display_name": "Python 3",
   "language": "python",
   "name": "python3"
  },
  "language_info": {
   "codemirror_mode": {
    "name": "ipython",
    "version": 3
   },
   "file_extension": ".py",
   "mimetype": "text/x-python",
   "name": "python",
   "nbconvert_exporter": "python",
   "pygments_lexer": "ipython3",
   "version": "3.7.3"
  }
 },
 "nbformat": 4,
 "nbformat_minor": 5
}
