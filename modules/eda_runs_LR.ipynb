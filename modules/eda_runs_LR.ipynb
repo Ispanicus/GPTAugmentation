{
 "cells": [
  {
   "cell_type": "code",
   "execution_count": 1,
   "id": "f7871cf5-a22a-4c97-8028-6d6b0bc6c1b4",
   "metadata": {},
   "outputs": [
    {
     "name": "stdout",
     "output_type": "stream",
     "text": [
      "Device used = cuda\n"
     ]
    }
   ],
   "source": [
    "import sys\n",
    "# the mock-0.3.1 dir contains testcase.py, testutils.py & mock.py\n",
    "from get_data import get_data\n",
    "from train import train,score\n",
    "import pandas as pd\n",
    "import seaborn as sns\n",
    "from tqdm.notebook import trange, tqdm\n",
    "from model import LogisticRegression\n",
    "\n",
    "import matplotlib.pyplot as plt\n",
    "from mpl_toolkits.mplot3d import Axes3D"
   ]
  },
  {
   "cell_type": "code",
   "execution_count": 2,
   "id": "f8126fc3-df3b-47d2-a714-97815847358d",
   "metadata": {},
   "outputs": [
    {
     "data": {
      "application/vnd.jupyter.widget-view+json": {
       "model_id": "e26b33e40f294e1ea0b525348c95cef4",
       "version_major": 2,
       "version_minor": 0
      },
      "text/plain": [
       "  0%|          | 0/3 [00:00<?, ?it/s]"
      ]
     },
     "metadata": {},
     "output_type": "display_data"
    },
    {
     "name": "stderr",
     "output_type": "stream",
     "text": [
      "C:\\Users\\Johan\\Anaconda3\\lib\\site-packages\\sklearn\\linear_model\\_logistic.py:765: ConvergenceWarning: lbfgs failed to converge (status=1):\n",
      "STOP: TOTAL NO. of ITERATIONS REACHED LIMIT.\n",
      "\n",
      "Increase the number of iterations (max_iter) or scale the data as shown in:\n",
      "    https://scikit-learn.org/stable/modules/preprocessing.html\n",
      "Please also refer to the documentation for alternative solver options:\n",
      "    https://scikit-learn.org/stable/modules/linear_model.html#logistic-regression\n",
      "  extra_warning_msg=_LOGISTIC_SOLVER_CONVERGENCE_MSG)\n",
      "C:\\Users\\Johan\\Anaconda3\\lib\\site-packages\\sklearn\\linear_model\\_logistic.py:765: ConvergenceWarning: lbfgs failed to converge (status=1):\n",
      "STOP: TOTAL NO. of ITERATIONS REACHED LIMIT.\n",
      "\n",
      "Increase the number of iterations (max_iter) or scale the data as shown in:\n",
      "    https://scikit-learn.org/stable/modules/preprocessing.html\n",
      "Please also refer to the documentation for alternative solver options:\n",
      "    https://scikit-learn.org/stable/modules/linear_model.html#logistic-regression\n",
      "  extra_warning_msg=_LOGISTIC_SOLVER_CONVERGENCE_MSG)\n",
      "C:\\Users\\Johan\\Anaconda3\\lib\\site-packages\\sklearn\\linear_model\\_logistic.py:765: ConvergenceWarning: lbfgs failed to converge (status=1):\n",
      "STOP: TOTAL NO. of ITERATIONS REACHED LIMIT.\n",
      "\n",
      "Increase the number of iterations (max_iter) or scale the data as shown in:\n",
      "    https://scikit-learn.org/stable/modules/preprocessing.html\n",
      "Please also refer to the documentation for alternative solver options:\n",
      "    https://scikit-learn.org/stable/modules/linear_model.html#logistic-regression\n",
      "  extra_warning_msg=_LOGISTIC_SOLVER_CONVERGENCE_MSG)\n",
      "C:\\Users\\Johan\\Anaconda3\\lib\\site-packages\\sklearn\\linear_model\\_logistic.py:765: ConvergenceWarning: lbfgs failed to converge (status=1):\n",
      "STOP: TOTAL NO. of ITERATIONS REACHED LIMIT.\n",
      "\n",
      "Increase the number of iterations (max_iter) or scale the data as shown in:\n",
      "    https://scikit-learn.org/stable/modules/preprocessing.html\n",
      "Please also refer to the documentation for alternative solver options:\n",
      "    https://scikit-learn.org/stable/modules/linear_model.html#logistic-regression\n",
      "  extra_warning_msg=_LOGISTIC_SOLVER_CONVERGENCE_MSG)\n"
     ]
    }
   ],
   "source": [
    "ns = [100,500,2000]\n",
    "augs = [4,8,16,32,64]\n",
    "\n",
    "\n",
    "Xt, Yt = get_data(type=\"dev\")\n",
    "\n",
    "length = len(ns)*len(augs)\n",
    "data = {\"n\":[0]*length,\n",
    "       \"augs\":[0]*length,\n",
    "       \"score\":[0.0]*length,\n",
    "       \"vocab\":[0]*length,\n",
    "       \"runs\":[0]*length}\n",
    "df = pd.DataFrame(data)\n",
    "\n",
    "i = 0\n",
    "for n in tqdm(ns):\n",
    "    \n",
    "    X,Y = get_data(f\"n_{n}\",early_return=False)\n",
    "    model = LogisticRegression(max_iter=100)\n",
    "    model.fit(X,Y)\n",
    "    preds = model.predict(Xt)\n",
    "    acc = round((sum(preds == Yt)/len(Yt)), 3)\n",
    "    df.at[i,\"n\"] = n\n",
    "    df.at[i,\"score\"] = acc\n",
    "    df.at[i,\"vocab\"] = len(model[0].vocab)\n",
    "    i+=1\n",
    "    for aug in augs:\n",
    "        #print(f\"\\neda_augs_{aug}_n_{n}\")\n",
    "        X,Y = get_data(type=f\"eda_augs_{aug}_n_{n}\")\n",
    "        model = LogisticRegression(max_iter=100)\n",
    "        model.fit(X,Y)\n",
    "        preds = model.predict(Xt)\n",
    "        acc = round((sum(preds == Yt)/len(Yt)), 3)\n",
    "        df.at[i,\"n\"] = n\n",
    "        df.at[i, \"augs\"] = aug\n",
    "        df.at[i,\"score\"] = acc\n",
    "        df.at[i,\"vocab\"] = len(model[0].vocab)\n",
    "        i+=1"
   ]
  },
  {
   "cell_type": "code",
   "execution_count": 3,
   "id": "52f973a3-e8b4-4b41-9816-7e8db56fc17a",
   "metadata": {},
   "outputs": [
    {
     "data": {
      "text/html": [
       "<div>\n",
       "<style scoped>\n",
       "    .dataframe tbody tr th:only-of-type {\n",
       "        vertical-align: middle;\n",
       "    }\n",
       "\n",
       "    .dataframe tbody tr th {\n",
       "        vertical-align: top;\n",
       "    }\n",
       "\n",
       "    .dataframe thead th {\n",
       "        text-align: right;\n",
       "    }\n",
       "</style>\n",
       "<table border=\"1\" class=\"dataframe\">\n",
       "  <thead>\n",
       "    <tr style=\"text-align: right;\">\n",
       "      <th></th>\n",
       "      <th>n</th>\n",
       "      <th>augs</th>\n",
       "      <th>score</th>\n",
       "      <th>vocab</th>\n",
       "      <th>runs</th>\n",
       "    </tr>\n",
       "  </thead>\n",
       "  <tbody>\n",
       "    <tr>\n",
       "      <th>0</th>\n",
       "      <td>100.0</td>\n",
       "      <td>0.0</td>\n",
       "      <td>0.592</td>\n",
       "      <td>13.0</td>\n",
       "      <td>0.0</td>\n",
       "    </tr>\n",
       "    <tr>\n",
       "      <th>1</th>\n",
       "      <td>100.0</td>\n",
       "      <td>4.0</td>\n",
       "      <td>0.639</td>\n",
       "      <td>114.0</td>\n",
       "      <td>0.0</td>\n",
       "    </tr>\n",
       "    <tr>\n",
       "      <th>2</th>\n",
       "      <td>100.0</td>\n",
       "      <td>8.0</td>\n",
       "      <td>0.647</td>\n",
       "      <td>210.0</td>\n",
       "      <td>0.0</td>\n",
       "    </tr>\n",
       "    <tr>\n",
       "      <th>3</th>\n",
       "      <td>100.0</td>\n",
       "      <td>16.0</td>\n",
       "      <td>0.657</td>\n",
       "      <td>351.0</td>\n",
       "      <td>0.0</td>\n",
       "    </tr>\n",
       "    <tr>\n",
       "      <th>4</th>\n",
       "      <td>100.0</td>\n",
       "      <td>32.0</td>\n",
       "      <td>0.663</td>\n",
       "      <td>1238.0</td>\n",
       "      <td>0.0</td>\n",
       "    </tr>\n",
       "    <tr>\n",
       "      <th>5</th>\n",
       "      <td>100.0</td>\n",
       "      <td>64.0</td>\n",
       "      <td>0.659</td>\n",
       "      <td>1256.0</td>\n",
       "      <td>0.0</td>\n",
       "    </tr>\n",
       "    <tr>\n",
       "      <th>6</th>\n",
       "      <td>500.0</td>\n",
       "      <td>0.0</td>\n",
       "      <td>0.699</td>\n",
       "      <td>112.0</td>\n",
       "      <td>0.0</td>\n",
       "    </tr>\n",
       "    <tr>\n",
       "      <th>7</th>\n",
       "      <td>500.0</td>\n",
       "      <td>4.0</td>\n",
       "      <td>0.742</td>\n",
       "      <td>532.0</td>\n",
       "      <td>0.0</td>\n",
       "    </tr>\n",
       "    <tr>\n",
       "      <th>8</th>\n",
       "      <td>500.0</td>\n",
       "      <td>8.0</td>\n",
       "      <td>0.752</td>\n",
       "      <td>841.0</td>\n",
       "      <td>0.0</td>\n",
       "    </tr>\n",
       "    <tr>\n",
       "      <th>9</th>\n",
       "      <td>500.0</td>\n",
       "      <td>16.0</td>\n",
       "      <td>0.758</td>\n",
       "      <td>1381.0</td>\n",
       "      <td>0.0</td>\n",
       "    </tr>\n",
       "    <tr>\n",
       "      <th>10</th>\n",
       "      <td>500.0</td>\n",
       "      <td>32.0</td>\n",
       "      <td>0.758</td>\n",
       "      <td>3770.0</td>\n",
       "      <td>0.0</td>\n",
       "    </tr>\n",
       "    <tr>\n",
       "      <th>11</th>\n",
       "      <td>500.0</td>\n",
       "      <td>64.0</td>\n",
       "      <td>0.758</td>\n",
       "      <td>3896.0</td>\n",
       "      <td>0.0</td>\n",
       "    </tr>\n",
       "    <tr>\n",
       "      <th>12</th>\n",
       "      <td>2000.0</td>\n",
       "      <td>0.0</td>\n",
       "      <td>0.794</td>\n",
       "      <td>430.0</td>\n",
       "      <td>0.0</td>\n",
       "    </tr>\n",
       "    <tr>\n",
       "      <th>13</th>\n",
       "      <td>2000.0</td>\n",
       "      <td>4.0</td>\n",
       "      <td>0.814</td>\n",
       "      <td>1764.0</td>\n",
       "      <td>0.0</td>\n",
       "    </tr>\n",
       "    <tr>\n",
       "      <th>14</th>\n",
       "      <td>2000.0</td>\n",
       "      <td>8.0</td>\n",
       "      <td>0.813</td>\n",
       "      <td>2692.0</td>\n",
       "      <td>0.0</td>\n",
       "    </tr>\n",
       "    <tr>\n",
       "      <th>15</th>\n",
       "      <td>2000.0</td>\n",
       "      <td>16.0</td>\n",
       "      <td>0.817</td>\n",
       "      <td>4119.0</td>\n",
       "      <td>NaN</td>\n",
       "    </tr>\n",
       "    <tr>\n",
       "      <th>16</th>\n",
       "      <td>2000.0</td>\n",
       "      <td>32.0</td>\n",
       "      <td>0.822</td>\n",
       "      <td>9371.0</td>\n",
       "      <td>NaN</td>\n",
       "    </tr>\n",
       "    <tr>\n",
       "      <th>17</th>\n",
       "      <td>2000.0</td>\n",
       "      <td>64.0</td>\n",
       "      <td>0.817</td>\n",
       "      <td>9903.0</td>\n",
       "      <td>NaN</td>\n",
       "    </tr>\n",
       "  </tbody>\n",
       "</table>\n",
       "</div>"
      ],
      "text/plain": [
       "         n  augs  score   vocab  runs\n",
       "0    100.0   0.0  0.592    13.0   0.0\n",
       "1    100.0   4.0  0.639   114.0   0.0\n",
       "2    100.0   8.0  0.647   210.0   0.0\n",
       "3    100.0  16.0  0.657   351.0   0.0\n",
       "4    100.0  32.0  0.663  1238.0   0.0\n",
       "5    100.0  64.0  0.659  1256.0   0.0\n",
       "6    500.0   0.0  0.699   112.0   0.0\n",
       "7    500.0   4.0  0.742   532.0   0.0\n",
       "8    500.0   8.0  0.752   841.0   0.0\n",
       "9    500.0  16.0  0.758  1381.0   0.0\n",
       "10   500.0  32.0  0.758  3770.0   0.0\n",
       "11   500.0  64.0  0.758  3896.0   0.0\n",
       "12  2000.0   0.0  0.794   430.0   0.0\n",
       "13  2000.0   4.0  0.814  1764.0   0.0\n",
       "14  2000.0   8.0  0.813  2692.0   0.0\n",
       "15  2000.0  16.0  0.817  4119.0   NaN\n",
       "16  2000.0  32.0  0.822  9371.0   NaN\n",
       "17  2000.0  64.0  0.817  9903.0   NaN"
      ]
     },
     "execution_count": 3,
     "metadata": {},
     "output_type": "execute_result"
    }
   ],
   "source": [
    "df"
   ]
  },
  {
   "cell_type": "code",
   "execution_count": 4,
   "id": "174c6a70-eb66-42cd-8b20-9245d2e1a36d",
   "metadata": {},
   "outputs": [
    {
     "data": {
      "text/plain": [
       "0.817"
      ]
     },
     "execution_count": 4,
     "metadata": {},
     "output_type": "execute_result"
    }
   ],
   "source": [
    "preds = model.predict(Xt)\n",
    "round((sum(preds == Yt)/len(Yt)), 3)"
   ]
  },
  {
   "cell_type": "code",
   "execution_count": 5,
   "id": "5b33e89e-675d-4eb8-8068-e59c3dd127d6",
   "metadata": {},
   "outputs": [],
   "source": [
    "df.to_csv(\"EDA_results_LR.csv\")"
   ]
  },
  {
   "cell_type": "code",
   "execution_count": 6,
   "id": "4f7819c4-f7f3-408d-91b9-bfb5dcae8a44",
   "metadata": {},
   "outputs": [
    {
     "data": {
      "text/plain": [
       "<seaborn.axisgrid.FacetGrid at 0x17fe0ebd548>"
      ]
     },
     "execution_count": 6,
     "metadata": {},
     "output_type": "execute_result"
    },
    {
     "data": {
      "image/png": "[encoded data removed]",
      "text/plain": [
       "<Figure size 648x216 with 3 Axes>"
      ]
     },
     "metadata": {
      "needs_background": "light"
     },
     "output_type": "display_data"
    }
   ],
   "source": [
    "g = sns.FacetGrid(df,col=\"n\")\n",
    "g.map(sns.scatterplot,\"augs\",\"score\")"
   ]
  },
  {
   "cell_type": "code",
   "execution_count": null,
   "id": "a17e0ba6-3727-4ae2-b6bb-21ea1d260b63",
   "metadata": {},
   "outputs": [],
   "source": []
  },
  {
   "cell_type": "code",
   "execution_count": null,
   "id": "86fcc636-344d-47c0-8dd4-2f8c15359def",
   "metadata": {},
   "outputs": [],
   "source": []
  }
 ],
 "metadata": {
  "kernelspec": {
   "display_name": "Python 3",
   "language": "python",
   "name": "python3"
  },
  "language_info": {
   "codemirror_mode": {
    "name": "ipython",
    "version": 3
   },
   "file_extension": ".py",
   "mimetype": "text/x-python",
   "name": "python",
   "nbconvert_exporter": "python",
   "pygments_lexer": "ipython3",
   "version": "3.7.7"
  }
 },
 "nbformat": 4,
 "nbformat_minor": 5
}
