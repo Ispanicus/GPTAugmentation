{
 "cells": [
  {
   "cell_type": "code",
   "execution_count": 2,
   "id": "5d25dd59-ad79-4c79-8a55-bdeb0eb123c9",
   "metadata": {},
   "outputs": [],
   "source": [
    "import sys\n",
    "# the mock-0.3.1 dir contains testcase.py, testutils.py & mock.py\n",
    "from get_data import get_data\n",
    "import pandas as pd\n",
    "import seaborn as sns\n",
    "from tqdm.notebook import trange, tqdm\n",
    "from model import OnehotTransformer,LogisticRegressionPytorch\n",
    "import torch\n",
    "Xt, Yt = get_data(\"dev\", cleanText=True)\n"
   ]
  },
  {
   "cell_type": "code",
   "execution_count": 3,
   "id": "4a2a24d0-e785-4e44-bd1b-2470ea4df493",
   "metadata": {},
   "outputs": [
    {
     "name": "stdout",
     "output_type": "stream",
     "text": [
      "Got Data\n",
      "Fitted vocab size: 1214\n",
      "Start Training\n",
      "Device: cuda\n",
      "4096 4096\n"
     ]
    },
    {
     "data": {
      "application/vnd.jupyter.widget-view+json": {
       "model_id": "24a56cb6f8ab4917bc2e2003faebafd0",
       "version_major": 2,
       "version_minor": 0
      },
      "text/plain": [
       "  0%|          | 0/200 [00:00<?, ?it/s]"
      ]
     },
     "metadata": {},
     "output_type": "display_data"
    },
    {
     "data": {
      "text/plain": [
       "0.817"
      ]
     },
     "execution_count": 3,
     "metadata": {},
     "output_type": "execute_result"
    }
   ],
   "source": [
    "# X,Y = get_data()\n",
    "X,Y = get_data(\"clean_gpt_50\")\n",
    "print(\"Got Data\")\n",
    "transformer = OnehotTransformer(ngram_range=(1, 1), min_df=0.001, max_df=0.5, verbose_vocab=True)\n",
    "transformer.fit(X,Y)\n",
    "X = transformer.transform(X)\n",
    "\n",
    "print(\"Start Training\")\n",
    "model = LogisticRegressionPytorch(input_dim=len(X[0]),epochs=200,progress_bar=True)\n",
    "model.train(X, Y, batch_size=4096)\n",
    "\n",
    "model.score(transformer.transform(Xt),Yt)"
   ]
  },
  {
   "cell_type": "code",
   "execution_count": null,
   "id": "c005f1d1-4f82-412a-be19-bba92372f1e4",
   "metadata": {},
   "outputs": [],
   "source": []
  }
 ],
 "metadata": {
  "kernelspec": {
   "display_name": "Python 3",
   "language": "python",
   "name": "python3"
  },
  "language_info": {
   "codemirror_mode": {
    "name": "ipython",
    "version": 3
   },
   "file_extension": ".py",
   "mimetype": "text/x-python",
   "name": "python",
   "nbconvert_exporter": "python",
   "pygments_lexer": "ipython3",
   "version": "3.8.5"
  }
 },
 "nbformat": 4,
 "nbformat_minor": 5
}
