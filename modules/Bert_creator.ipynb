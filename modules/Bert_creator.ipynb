{
 "cells": [
  {
   "cell_type": "code",
   "execution_count": 6,
   "id": "62ff2406-734a-4063-831a-bda6d266c692",
   "metadata": {},
   "outputs": [],
   "source": [
    "import nlpaug.augmenter.word as naw\n",
    "from get_data import get_data\n",
    "from nlpaug.util import Action\n",
    "import random"
   ]
  },
  {
   "cell_type": "code",
   "execution_count": 7,
   "id": "2e2bd2f9-8613-4b84-90c6-e66807358e13",
   "metadata": {},
   "outputs": [],
   "source": [
    "aug = naw.ContextualWordEmbsAug(\n",
    "    model_path='bert-base-uncased', action=\"substitute\")"
   ]
  },
  {
   "cell_type": "code",
   "execution_count": 5,
   "id": "797dbe2f-7804-4cf9-b09e-86e3d0c8b42d",
   "metadata": {},
   "outputs": [],
   "source": [
    "ranges = [10, 50, 100, 500, 2000]\n",
    "for r in ranges:\n",
    "    X,Y = get_data(f\"clean_n_{r}\")\n",
    "    with open(f\"../Data/clean_data/bert/{r}_{random.random()}.txt\", \"w\") as f:\n",
    "        for x,y in zip(X,Y):\n",
    "            for i in range(5):\n",
    "                f.write(f\"{y}\\t{aug.augment(x)}\\n\")\n"
   ]
  },
  {
   "cell_type": "code",
   "execution_count": null,
   "id": "8a540211-d2f9-42ab-9978-1417f99dfa2a",
   "metadata": {},
   "outputs": [],
   "source": []
  }
 ],
 "metadata": {
  "kernelspec": {
   "display_name": "Python 3",
   "language": "python",
   "name": "python3"
  },
  "language_info": {
   "codemirror_mode": {
    "name": "ipython",
    "version": 3
   },
   "file_extension": ".py",
   "mimetype": "text/x-python",
   "name": "python",
   "nbconvert_exporter": "python",
   "pygments_lexer": "ipython3",
   "version": "3.7.3"
  }
 },
 "nbformat": 4,
 "nbformat_minor": 5
}
