{
 "cells": [
  {
   "cell_type": "code",
   "execution_count": 1,
   "metadata": {},
   "outputs": [],
   "source": [
    "from get_eda_reviews import get_eda_reviews\n",
    "from get_gpt_reviews import get_gpt_reviews\n",
    "from get_data import get_data"
   ]
  },
  {
   "cell_type": "code",
   "execution_count": 19,
   "metadata": {},
   "outputs": [],
   "source": [
    "from nltk.stem import WordNetLemmatizer\n",
    "from nltk.tokenize import word_tokenize\n",
    "import subset_file_paths\n",
    "import re\n",
    "\n",
    "contractions = [(\"aren't\", \"are not\"),\n",
    "(\"can't\", \"cannot\"),\n",
    "(\"couldn't\", \"could not\"),\n",
    "(\"didn't\", \"did not\"),\n",
    "(\"doesn't\", \"does not\"),\n",
    "(\"don't\", \"do not\"),\n",
    "(\"hadn't\", \"had not\"),\n",
    "(\"hasn't\", \"has not\"),\n",
    "(\"haven't\", \"have not\"),\n",
    "(\"he'd\", \"he would\"),\n",
    "(\"he'll\", \"he will\"),\n",
    "(\"he's\", \"he is\"),\n",
    "(\"here's\", \"here is\"),\n",
    "(\"i'd\", \"i would\"),\n",
    "(\"i'll\", \"i will\"),\n",
    "(\"it's\", \"it is\"),\n",
    "(\"i'm\", \"i am\"),\n",
    "(\"i've\", \"i have\"),\n",
    "(\"isn't\", \"is not\"),\n",
    "(\"let's\", \"let us\"),\n",
    "(\"mightn't\", \"might not\"),\n",
    "(\"mustn't\", \"must not\"),\n",
    "(\"shan't\", \"shall not\"),\n",
    "(\"she'd\", \"she would\"),\n",
    "(\"she'll\", \"she will\"),\n",
    "(\"she's\", \"she is\"),\n",
    "(\"shouldn't\", \"should not\"),\n",
    "(\"that's\", \"that is\"),\n",
    "(\"there's\", \"there is\"),\n",
    "(\"they'd\", \"they would\"),\n",
    "(\"they'll\", \"they will\"),\n",
    "(\"they're\", \"they are\"),\n",
    "(\"they've\", \"they have\"),\n",
    "(\"we'd\", \"we would\"),\n",
    "(\"we're\", \"we are\"),\n",
    "(\"we've\", \"we have\"),\n",
    "(\"weren't\", \"were not\"),\n",
    "(\"what'll\", \"what will\"),\n",
    "(\"what're\", \"what are\"),\n",
    "(\"what's\", \"what is\"),\n",
    "(\"what've\", \"what have\"),\n",
    "(\"where's\", \"where is\"),\n",
    "(\"who'd\", \"who would\"),\n",
    "(\"who'll\", \"who will\"),\n",
    "(\"who're\", \"who are\"),\n",
    "(\"who's\", \"who is\"),\n",
    "(\"who've\", \"who have\"),\n",
    "(\"won't\", \"will not\"),\n",
    "(\"wouldn't\", \"would not\"),\n",
    "(\"you'd\", \"you would\"),\n",
    "(\"you'll\", \"you will\"),\n",
    "(\"you're\", \"you are\"),\n",
    "(\"you've\", \"you have\")]"
   ]
  },
  {
   "cell_type": "code",
   "execution_count": 26,
   "metadata": {},
   "outputs": [],
   "source": [
    "hue = \"I'm a little piggy here's my snout oink oink oink!!!!!\"\n",
    "\n",
    "def clean_test(text):\n",
    "    lemmatizer = WordNetLemmatizer().lemmatize\n",
    "    text = text.lower()\n",
    "    pattern1 = re.compile(r'([^0-9a-zA-Z\\s])\\1+(?=[a-z0-9A-Z])')\n",
    "    pattern2 = re.compile(r'([^0-9a-zA-Z\\s])\\1+')\n",
    "    pattern3 = re.compile(r'<[^>]>')\n",
    "    text = re.sub(pattern1, r'\\1 ', text)\n",
    "    text = re.sub(pattern2, r'\\1', text)\n",
    "    text = re.sub(pattern3, r'', text)\n",
    "    for contr, exp in contractions:\n",
    "        text = text.replace(contr, exp)\n",
    "    \n",
    "    text = text.replace('\"', \"'\")\n",
    "    text = text.replace(\"'\", '') #remove ' and \"\n",
    "    tokens = \" \".join([lemmatizer(w) for w in word_tokenize(text)])\n",
    "    return tokens"
   ]
  },
  {
   "cell_type": "code",
   "execution_count": 27,
   "metadata": {},
   "outputs": [
    {
     "name": "stdout",
     "output_type": "stream",
     "text": [
      "i'm a little piggy here's my snout oink oink oink!!!!!\n",
      "i'm a little piggy here's my snout oink oink oink!\n",
      "i'm a little piggy here's my snout oink oink oink!\n"
     ]
    },
    {
     "data": {
      "text/plain": [
       "'i am a little piggy here is my snout oink oink oink !'"
      ]
     },
     "execution_count": 27,
     "metadata": {},
     "output_type": "execute_result"
    }
   ],
   "source": [
    "clean_test(hue)"
   ]
  },
  {
   "cell_type": "code",
   "execution_count": null,
   "metadata": {},
   "outputs": [],
   "source": []
  }
 ],
 "metadata": {
  "kernelspec": {
   "display_name": "Python 3",
   "language": "python",
   "name": "python3"
  },
  "language_info": {
   "codemirror_mode": {
    "name": "ipython",
    "version": 3
   },
   "file_extension": ".py",
   "mimetype": "text/x-python",
   "name": "python",
   "nbconvert_exporter": "python",
   "pygments_lexer": "ipython3",
   "version": "3.7.3"
  }
 },
 "nbformat": 4,
 "nbformat_minor": 4
}
