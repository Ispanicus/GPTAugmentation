{
 "cells": [
  {
   "cell_type": "code",
   "execution_count": 19,
   "id": "17048376-a2b4-41d0-8411-3f13cffcdd0c",
   "metadata": {},
   "outputs": [
    {
     "name": "stdout",
     "output_type": "stream",
     "text": [
      "0        So creative!  Love his music - the words, the ...\n",
      "1        This tape can hardly be understood and it was ...\n",
      "2        Buy the CD.  Do not buy the MP3 album.  Downlo...\n",
      "3        I love Dallas Holms music and voice!  Thank Yo...\n",
      "4               Great memories of my early years in Christ\n",
      "                               ...                        \n",
      "99995                             Great old song. Love it.\n",
      "99996    Daniel Smith has no more command of the bassoo...\n",
      "99997                    I'm enjoying her album very much!\n",
      "99998    These digital files are corrupted.  There are ...\n",
      "99999    I saw the Tempest live performed by the Minnes...\n",
      "Name: reviewText, Length: 100000, dtype: object\n",
      "\n",
      "Producing subset for size: 100\n",
      "Removed short sentences: 18\n",
      "\n",
      "Producing subset for size: 500\n",
      "Removed short sentences: 107\n",
      "\n",
      "Producing subset for size: 2000\n",
      "Removed short sentences: 396\n"
     ]
    }
   ],
   "source": [
    "import sys\n",
    "sys.path.append('../modules/')\n",
    "\n",
    "from get_data import get_data\n",
    "from random import sample\n",
    "import re\n",
    "\n",
    "\n",
    "\n",
    "X, y = get_data()\n",
    "y = y.where(X.reviewText.str.contains(r'[a-zA-Z]'))\n",
    "X = X.where(X.reviewText.str.contains(r'[a-zA-Z]'))\n",
    "\n",
    "X = X.reviewText.str.replace('\\n', ' ')\n",
    "print(X)\n",
    "ranges = [100, 500, 2000]\n",
    "\n",
    "neg = X[y == 0]\n",
    "pos = X[y == 1]\n",
    "\n",
    "\n",
    "\n",
    "for r in ranges:\n",
    "    print('\\nProducing subset for size:', r)\n",
    "#     text = []\n",
    "    \n",
    "    text_neg = sample(list(neg), r//2)\n",
    "    text_neg = [\"0\"+x for x in text_neg]\n",
    "    text_pos = sample(list(pos), r//2)\n",
    "    text_pos = [\"1\"+x for x in text_pos]\n",
    "    text = text_neg+text_pos\n",
    "#     for label, data in enumerate([neg, pos]):\n",
    "#         print(\"data:\",len(data))\n",
    "        \n",
    "#         idxs = range(len(data))\n",
    "#         idxs = sample(idxs, r//2)\n",
    "#         print(idxs)\n",
    "#         print(data.iloc[idxs])\n",
    "#         data.iloc[idxs][\"\"]\n",
    "#         break\n",
    "#         text += list(data.iloc[idxs].reviewText.str.replace('\\n', ' '))\n",
    "        \n",
    "    pattern1 = re.compile(r'([^0-9a-zA-Z\\s])\\1+(?=[a-z0-9A-Z])')\n",
    "    pattern2 = re.compile(r'([^0-9a-zA-Z\\s])\\1+')\n",
    "    pattern3 = re.compile(r'<[^>]>')\n",
    "    for i, t in enumerate(text):\n",
    "        t = re.sub(pattern1, r'\\1 ', t)\n",
    "        t = re.sub(pattern2, r'\\1', t)\n",
    "        t = re.sub(pattern3, r'', t)\n",
    "        text[i] = t\n",
    "\n",
    "\n",
    "    # fix \"...blabl -> ... blabl\" and reduce \"... -> .\"\n",
    "    s_before = len(text)\n",
    "    text[:] = filter(lambda sen: len(sen) > 35, text)\n",
    "    print('Removed short sentences:', s_before - len(text))\n",
    "\n",
    "    s_before = len(text)\n",
    "    new = []\n",
    "    # Cut long sentences\n",
    "    for review in text:\n",
    "        shortened_sentences = 0\n",
    "        if len(review) > 450:\n",
    "            extra = review[450:]\n",
    "            match = re.search(r'[!?.]', extra)\n",
    "            if match:\n",
    "                stop = 450 + match.span()[-1]\n",
    "                review = review[:stop]\n",
    "                shortened_sentences += 1\n",
    "            if len(review) > 600:\n",
    "                continue\n",
    "        new.append(review)\n",
    "#     print('Shortened long sentences:', shortened_sentences)\n",
    "#     print('Removed difficult long sentences:', s_before - len(new))\n",
    "\n",
    "    with open(f'../Data/subsets/n_{r}.txt', 'w') as f:\n",
    "        for i, t in enumerate(text):\n",
    "            l = t[0]\n",
    "            t = t[1:]\n",
    "            f.write(f'{l}\\t{t}\\n')\n",
    "\n",
    "    with open(f'../Data/subsets/n_{r}_for_gpt.txt', 'w') as f:\n",
    "        for i, t in enumerate(new):\n",
    "            l = t[0]\n",
    "            t = t[1:]\n",
    "            f.write(f'{l}\\t{t}\\n')"
   ]
  },
  {
   "cell_type": "code",
   "execution_count": 13,
   "id": "be56f010-0545-4d04-94f1-5e2bd387c074",
   "metadata": {},
   "outputs": [
    {
     "data": {
      "text/plain": [
       "0        1.0\n",
       "1        0.0\n",
       "2        0.0\n",
       "3        1.0\n",
       "4        1.0\n",
       "        ... \n",
       "99995    1.0\n",
       "99996    0.0\n",
       "99997    1.0\n",
       "99998    0.0\n",
       "99999    0.0\n",
       "Name: sentiment, Length: 100000, dtype: float64"
      ]
     },
     "execution_count": 13,
     "metadata": {},
     "output_type": "execute_result"
    }
   ],
   "source": [
    "y"
   ]
  },
  {
   "cell_type": "code",
   "execution_count": 16,
   "id": "31e183b3-b66b-44f0-bb25-b77bb9e5f4ec",
   "metadata": {},
   "outputs": [
    {
     "data": {
      "text/plain": [
       "['Company/seller is wonderful, DVD is too orchestral and not what I expected at all. Seller very nice. Returned',\n",
       " \"If you LIKE Disturbed, you will LIKE this CD.  If you do NOT LIKE Disturbed, you will NOT LIKE this CD.  I don't really like Disturbed.  Do the math.\",\n",
       " 'faulty']"
      ]
     },
     "execution_count": 16,
     "metadata": {},
     "output_type": "execute_result"
    }
   ],
   "source": [
    "sample(list(neg[\"reviewText\"]),3)"
   ]
  },
  {
   "cell_type": "code",
   "execution_count": null,
   "id": "3dfa2022-5994-4f39-b678-a29b55cf936c",
   "metadata": {},
   "outputs": [],
   "source": []
  }
 ],
 "metadata": {
  "kernelspec": {
   "display_name": "Python 3",
   "language": "python",
   "name": "python3"
  },
  "language_info": {
   "codemirror_mode": {
    "name": "ipython",
    "version": 3
   },
   "file_extension": ".py",
   "mimetype": "text/x-python",
   "name": "python",
   "nbconvert_exporter": "python",
   "pygments_lexer": "ipython3",
   "version": "3.7.7"
  }
 },
 "nbformat": 4,
 "nbformat_minor": 5
}
