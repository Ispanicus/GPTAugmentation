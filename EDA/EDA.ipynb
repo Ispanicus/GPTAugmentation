{
 "cells": [
  {
   "cell_type": "code",
   "execution_count": 15,
   "id": "second-equality",
   "metadata": {},
   "outputs": [
    {
     "data": {
      "text/plain": [
       "0.60783"
      ]
     },
     "execution_count": 15,
     "metadata": {},
     "output_type": "execute_result"
    }
   ],
   "source": [
    "from collections import defaultdict\n",
    "import numpy as np\n",
    "import pandas as pd\n",
    "import json\n",
    "import torch\n",
    "import torch.nn as nn\n",
    "import torch.optim as optim\n",
    "import csv\n",
    "from sklearn.feature_extraction.text import TfidfVectorizer\n",
    "from sklearn.linear_model import LogisticRegression\n",
    "from sklearn.base import BaseEstimator, TransformerMixin\n",
    "from sklearn.pipeline import Pipeline\n",
    "\n",
    "def load_data(path):\n",
    "    data = []\n",
    "    cols = {'verified':0,'reviewTime':1,'reviewerID':2,'asin':3,\"reviewText\":4,\"summary\":5,\"unixReviewTime\":6,\"sentiment\":7,\"id\":8}\n",
    "    for line in open(path):\n",
    "        review_data = json.loads(line)\n",
    "        tmp = [None]*len(cols)\n",
    "        for key in review_data:\n",
    "            if key in cols:\n",
    "                if key == \"sentiment\":\n",
    "                    tmp[cols[key]] = 1 if review_data[key] == \"positive\" else 0\n",
    "                else:\n",
    "                    tmp[cols[key]] = str(review_data[key])\n",
    "        data.append(tmp)\n",
    "    X = pd.DataFrame(data, columns=cols)\n",
    "    # set empty reviews to '' (instead of None)\n",
    "    X.loc[X['reviewText'].isna(), 'reviewText'] = ''\n",
    "    X.loc[X['summary'].isna(), 'summary'] = ''\n",
    "    y = X['sentiment']\n",
    "    X.drop(columns='sentiment', inplace=True)\n",
    "    return X, y\n",
    "\n",
    "df, target = load_data('Data/music_reviews_train.json')\n",
    "df_dev, y_dev = load_data('Data/music_reviews_dev.json')\n",
    "df_test, y_test = load_data('Data/music_reviews_test_masked.json')\n",
    "df_hard, y_hard = load_data('Data/phase_2_masked.json')\n",
    "sum(target)/len(target)"
   ]
  },
  {
   "cell_type": "code",
   "execution_count": 76,
   "id": "romantic-technician",
   "metadata": {},
   "outputs": [],
   "source": [
    "from random import sample\n",
    "import re\n",
    "ranges = [10, 50, 100, 500, 2000]\n",
    "\n",
    "samples = df.reviewText[df.reviewText.str.contains(r'[a-zA-Z]')]\n",
    "for r in ranges:\n",
    "    idxs = sample(range(len(samples)), r)\n",
    "    text = samples.iloc[idxs].str.replace('\\n', ' ')\n",
    "    label = target[idxs]\n",
    "    \n",
    "    with open(f'Data/subsets/n_{r}.txt', 'w') as f:\n",
    "        for l, t in zip(label, text):\n",
    "            f.write(f'{l}\\t{t}\\n')"
   ]
  },
  {
   "cell_type": "code",
   "execution_count": null,
   "id": "turned-playlist",
   "metadata": {},
   "outputs": [],
   "source": []
  }
 ],
 "metadata": {
  "kernelspec": {
   "display_name": "Python 3",
   "language": "python",
   "name": "python3"
  },
  "language_info": {
   "codemirror_mode": {
    "name": "ipython",
    "version": 3
   },
   "file_extension": ".py",
   "mimetype": "text/x-python",
   "name": "python",
   "nbconvert_exporter": "python",
   "pygments_lexer": "ipython3",
   "version": "3.8.5"
  }
 },
 "nbformat": 4,
 "nbformat_minor": 5
}
