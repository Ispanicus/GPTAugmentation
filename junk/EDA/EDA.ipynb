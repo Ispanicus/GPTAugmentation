{
 "cells": [
  {
   "cell_type": "code",
   "execution_count": 2,
   "id": "second-equality",
   "metadata": {},
   "outputs": [
    {
     "ename": "ModuleNotFoundError",
     "evalue": "No module named 'get_data'",
     "output_type": "error",
     "traceback": [
      "\u001b[1;31m---------------------------------------------------------------------------\u001b[0m",
      "\u001b[1;31mModuleNotFoundError\u001b[0m                       Traceback (most recent call last)",
      "\u001b[1;32m<ipython-input-2-5e140367d87b>\u001b[0m in \u001b[0;36m<module>\u001b[1;34m\u001b[0m\n\u001b[1;32m----> 1\u001b[1;33m \u001b[1;32mfrom\u001b[0m \u001b[0mget_data\u001b[0m \u001b[1;32mimport\u001b[0m \u001b[0mget_data\u001b[0m\u001b[1;33m\u001b[0m\u001b[1;33m\u001b[0m\u001b[0m\n\u001b[0m\u001b[0;32m      2\u001b[0m \u001b[1;33m\u001b[0m\u001b[0m\n\u001b[0;32m      3\u001b[0m \u001b[0mdf\u001b[0m\u001b[1;33m,\u001b[0m \u001b[0mtarget\u001b[0m \u001b[1;33m=\u001b[0m \u001b[0mget_data\u001b[0m\u001b[1;33m(\u001b[0m\u001b[1;33m)\u001b[0m\u001b[1;33m\u001b[0m\u001b[1;33m\u001b[0m\u001b[0m\n",
      "\u001b[1;31mModuleNotFoundError\u001b[0m: No module named 'get_data'"
     ]
    }
   ],
   "source": [
    "from get_data import get_data\n",
    "\n",
    "df, target = get_data()"
   ]
  },
  {
   "cell_type": "code",
   "execution_count": 76,
   "id": "romantic-technician",
   "metadata": {},
   "outputs": [],
   "source": [
    "from random import sample\n",
    "import re\n",
    "ranges = [10, 50, 100, 500, 2000]\n",
    "\n",
    "samples = df.reviewText[df.reviewText.str.contains(r'[a-zA-Z]')]\n",
    "positive = df.iloc[df.sentiment \n",
    "negative = \n",
    "for r in ranges\n",
    "    idxs = sample(range(len(samples)), r)\n",
    "    text = samples.iloc[idxs].str.replace('n', ' ')\n",
    "    label = target[idxs]\n",
    "    \n",
    "    with open(f'Datasubsetsn_{r}.txt', 'w') as f\n",
    "        for l, t in zip(label, text)\n",
    "            f.write(f'{l}t{t}n')"
   ]
  },
  {
   "cell_type": "code",
   "execution_count": null,
   "id": "turned-playlist",
   "metadata": {},
   "outputs": [],
   "source": [
    "df.sentiment"
   ]
  },
  {
   "cell_type": "code",
   "execution_count": null,
   "id": "exotic-solomon",
   "metadata": {},
   "outputs": [],
   "source": []
  }
 ],
 "metadata": {
  "kernelspec": {
   "display_name": "Python 3",
   "language": "python",
   "name": "python3"
  },
  "language_info": {
   "codemirror_mode": {
    "name": "ipython",
    "version": 3
   },
   "file_extension": ".py",
   "mimetype": "text/x-python",
   "name": "python",
   "nbconvert_exporter": "python",
   "pygments_lexer": "ipython3",
   "version": "3.8.5"
  }
 },
 "nbformat": 4,
 "nbformat_minor": 5
}
