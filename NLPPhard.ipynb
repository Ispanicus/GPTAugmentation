{
 "cells": [
  {
   "cell_type": "code",
   "execution_count": 1,
   "id": "genetic-swedish",
   "metadata": {},
   "outputs": [
    {
     "name": "stdin",
     "output_type": "stream",
     "text": [
      "User ····\n",
      "Password ··········\n"
     ]
    },
    {
     "name": "stdout",
     "output_type": "stream",
     "text": [
      "Cloning into 'NLPPhard'...\n",
      "remote: Enumerating objects: 3, done.\u001b[K\n",
      "remote: Counting objects: 100% (3/3), done.\u001b[K\n",
      "remote: Total 3 (delta 0), reused 0 (delta 0), pack-reused 0\u001b[K\n",
      "Unpacking objects: 100% (3/3), done.\n"
     ]
    }
   ],
   "source": [
    "## Downloading dataset, requires permission. Consider commenting out ##\n",
    "from getpass import getpass\n",
    "import os\n",
    "\n",
    "user = getpass('User')\n",
    "password = getpass('Password')\n",
    "os.environ['AUTH'] = user + ':' + password\n",
    "\n",
    "!git clone https://$AUTH@github.itu.dk/alai/NLPPhard\n",
    "########################################################################"
   ]
  }
 ],
 "metadata": {
  "kernelspec": {
   "display_name": "Python 3",
   "language": "python",
   "name": "python3"
  },
  "language_info": {
   "codemirror_mode": {
    "name": "ipython",
    "version": 3
   },
   "file_extension": ".py",
   "mimetype": "text/x-python",
   "name": "python",
   "nbconvert_exporter": "python",
   "pygments_lexer": "ipython3",
   "version": "3.7.6"
  }
 },
 "nbformat": 4,
 "nbformat_minor": 5
}
