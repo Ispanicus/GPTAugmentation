{
 "cells": [
  {
   "cell_type": "code",
   "execution_count": 1,
   "metadata": {},
   "outputs": [],
   "source": [
    "from collections import defaultdict\n",
    "import numpy as np\n",
    "import pandas as pd\n",
    "import json\n",
    "import torch\n",
    "import torch.nn as nn\n",
    "import torch.optim as optim\n",
    "\n",
    "mapping = {'verified':0,'reviewTime':1,'reviewerID':2,'asin':3,\"reviewText\":4,\"summary\":5,\"unixReviewTime\":6,\"sentiment\":7,\"id\":8}\n",
    "ls = []\n",
    "\n",
    "for line in open('Data/music_reviews_train.json'):\n",
    "    review_data = json.loads(line)\n",
    "    tmp = [None]*len(mapping)\n",
    "    for key in review_data:\n",
    "        if key in mapping:\n",
    "            if key == \"sentiment\":\n",
    "                \n",
    "                tmp[mapping[key]] = 1 if review_data[key] == \"positive\" else 0\n",
    "            else:\n",
    "                tmp[mapping[key]] = review_data[key]\n",
    "    ls.append(tmp)\n",
    "#df = pd.read_json('Data/music_reviews_train.json', typ='series', orient='records')"
   ]
  },
  {
   "cell_type": "code",
   "execution_count": 2,
   "metadata": {},
   "outputs": [],
   "source": [
    "ls_dev = []\n",
    "for line in open('Data/music_reviews_dev.json'):\n",
    "    review_data_dev = json.loads(line)\n",
    "    tmp = [None]*len(mapping)\n",
    "    for key in review_data_dev:\n",
    "        if key in mapping:\n",
    "            if key == \"sentiment\":\n",
    "                \n",
    "                tmp[mapping[key]] = 1 if review_data_dev[key] == \"positive\" else 0\n",
    "            else:\n",
    "                tmp[mapping[key]] = review_data_dev[key]\n",
    "    ls_dev.append(tmp)"
   ]
  },
  {
   "cell_type": "code",
   "execution_count": 3,
   "metadata": {},
   "outputs": [],
   "source": [
    "df = pd.DataFrame(ls)\n",
    "df = df.drop(df[df[4].isna()].index) #Drops all None values for reviewtext\n",
    "\n",
    "#DEV\n",
    "df_dev = pd.DataFrame(ls_dev)\n",
    "df_dev = df_dev.drop(df_dev[df_dev[4].isna()].index) #Drops all None values for reviewtext"
   ]
  },
  {
   "cell_type": "code",
   "execution_count": 4,
   "metadata": {},
   "outputs": [],
   "source": [
    "mp = {value:key for key, value in mapping.items()}\n",
    "df = df.rename(columns=mp)\n",
    "target = np.array(df[\"sentiment\"])\n",
    "\n",
    "#DEV\n",
    "df_dev = df_dev.rename(columns=mp)\n",
    "target_dev = np.array(df_dev[\"sentiment\"])"
   ]
  },
  {
   "cell_type": "code",
   "execution_count": 5,
   "metadata": {},
   "outputs": [],
   "source": [
    "from collections import Counter\n",
    "\n",
    "def oneHot(sentence):\n",
    "    output = [0]*len(vocab)\n",
    "    for word in sentence:\n",
    "        if word in vocab:\n",
    "            output[words2idx[word]] = 1\n",
    "    return output\n",
    "\n",
    "freqs = defaultdict(int)\n",
    "\n",
    "for line in df[\"reviewText\"]:\n",
    "    for word in line.split():\n",
    "        freqs[word] +=1\n",
    "\n",
    "words = Counter(freqs)\n",
    "w = words.most_common(1000)\n",
    "vocab = set([x[0] for x in w])\n",
    "words2idx = {x:idx for idx,x in enumerate(vocab)}\n",
    "X = []\n",
    "\n",
    "for line in df[\"reviewText\"]:\n",
    "    X.append(oneHot(line.split()))"
   ]
  },
  {
   "cell_type": "code",
   "execution_count": 6,
   "metadata": {},
   "outputs": [],
   "source": [
    "# DEV\n",
    "X_dev = []\n",
    "for line in df_dev[\"reviewText\"]:\n",
    "    X_dev.append(oneHot(line.split()))"
   ]
  },
  {
   "cell_type": "code",
   "execution_count": 7,
   "metadata": {},
   "outputs": [
    {
     "name": "stdout",
     "output_type": "stream",
     "text": [
      "[LibSVM]"
     ]
    },
    {
     "name": "stderr",
     "output_type": "stream",
     "text": [
      "C:\\Users\\Johan\\Anaconda3\\lib\\site-packages\\sklearn\\svm\\_base.py:249: ConvergenceWarning: Solver terminated early (max_iter=100).  Consider pre-processing your data with StandardScaler or MinMaxScaler.\n",
      "  % self.max_iter, ConvergenceWarning)\n"
     ]
    },
    {
     "data": {
      "text/plain": [
       "SVC(max_iter=100, verbose=True)"
      ]
     },
     "execution_count": 7,
     "metadata": {},
     "output_type": "execute_result"
    }
   ],
   "source": [
    "from sklearn.svm import SVC\n",
    "clf = SVC(verbose=True,max_iter=100)\n",
    "clf.fit(X, target)"
   ]
  },
  {
   "cell_type": "code",
   "execution_count": 8,
   "metadata": {},
   "outputs": [
    {
     "data": {
      "text/plain": [
       "0.5730494467012187"
      ]
     },
     "execution_count": 8,
     "metadata": {},
     "output_type": "execute_result"
    }
   ],
   "source": [
    "clf.score(X,target)"
   ]
  },
  {
   "cell_type": "code",
   "execution_count": 9,
   "metadata": {},
   "outputs": [
    {
     "data": {
      "text/plain": [
       "0.5414165666266506"
      ]
     },
     "execution_count": 9,
     "metadata": {},
     "output_type": "execute_result"
    }
   ],
   "source": [
    "clf.score(X_dev,target_dev)"
   ]
  },
  {
   "cell_type": "code",
   "execution_count": 10,
   "metadata": {},
   "outputs": [
    {
     "data": {
      "text/plain": [
       "0.6076681407960298"
      ]
     },
     "execution_count": 10,
     "metadata": {},
     "output_type": "execute_result"
    }
   ],
   "source": [
    "sum(df[\"sentiment\"])/len(df[\"sentiment\"])"
   ]
  },
  {
   "cell_type": "code",
   "execution_count": 11,
   "metadata": {},
   "outputs": [
    {
     "data": {
      "text/plain": [
       "LogisticRegression(solver='liblinear')"
      ]
     },
     "execution_count": 11,
     "metadata": {},
     "output_type": "execute_result"
    }
   ],
   "source": [
    "from sklearn.linear_model import LogisticRegression\n",
    "lr = LogisticRegression(solver='liblinear')\n",
    "lr.fit(X, target)\n",
    "#lr.score(X, target)"
   ]
  },
  {
   "cell_type": "code",
   "execution_count": 12,
   "metadata": {},
   "outputs": [
    {
     "data": {
      "text/plain": [
       "0.8518600044023773"
      ]
     },
     "execution_count": 12,
     "metadata": {},
     "output_type": "execute_result"
    }
   ],
   "source": [
    "lr.score(X,target)"
   ]
  },
  {
   "cell_type": "code",
   "execution_count": 13,
   "metadata": {},
   "outputs": [
    {
     "data": {
      "text/plain": [
       "0.8410364145658263"
      ]
     },
     "execution_count": 13,
     "metadata": {},
     "output_type": "execute_result"
    }
   ],
   "source": [
    "lr.score(X_dev,target_dev)"
   ]
  },
  {
   "cell_type": "code",
   "execution_count": null,
   "metadata": {},
   "outputs": [],
   "source": []
  }
 ],
 "metadata": {
  "kernelspec": {
   "display_name": "Python 3",
   "language": "python",
   "name": "python3"
  },
  "language_info": {
   "codemirror_mode": {
    "name": "ipython",
    "version": 3
   },
   "file_extension": ".py",
   "mimetype": "text/x-python",
   "name": "python",
   "nbconvert_exporter": "python",
   "pygments_lexer": "ipython3",
   "version": "3.7.7"
  }
 },
 "nbformat": 4,
 "nbformat_minor": 5
}
