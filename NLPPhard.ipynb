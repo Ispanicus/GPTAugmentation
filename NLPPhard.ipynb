{
 "cells": [
  {
   "cell_type": "code",
   "execution_count": 2,
   "id": "second-equality",
   "metadata": {},
   "outputs": [],
   "source": [
    "from collections import defaultdict\n",
    "import numpy as np\n",
    "import pandas as pd\n",
    "import json\n",
    "import torch\n",
    "import torch.nn as nn\n",
    "import torch.optim as optim\n",
    "\n",
    "\n",
    "def load_data(path):\n",
    "    data = []\n",
    "    cols = {'verified':0,'reviewTime':1,'reviewerID':2,'asin':3,\"reviewText\":4,\"summary\":5,\"unixReviewTime\":6,\"sentiment\":7,\"id\":8}\n",
    "    for line in open(path):\n",
    "        review_data = json.loads(line)\n",
    "        tmp = [None]*len(cols)\n",
    "        for key in review_data:\n",
    "            if key in cols:\n",
    "                if key == \"sentiment\":\n",
    "                    tmp[cols[key]] = 1 if review_data[key] == \"positive\" else 0\n",
    "                else:\n",
    "                    tmp[cols[key]] = review_data[key]\n",
    "        data.append(tmp)\n",
    "    X = pd.DataFrame(data, columns=cols)\n",
    "    # set empty reviews to '' (instead of None)\n",
    "    X.loc[X['reviewText'].isna(), 'reviewText'] = ''\n",
    "    X.loc[X['summary'].isna(), 'summary'] = ''\n",
    "    y = X['sentiment']\n",
    "    X.drop(columns='sentiment', inplace=True)\n",
    "    return X, y\n",
    "\n",
    "df, target = load_data('Data/music_reviews_train.json')\n",
    "df_dev, y_dev = load_data('Data/music_reviews_dev.json')\n",
    "df_test, y_test = load_data('Data/music_reviews_test_masked.json')"
   ]
  },
  {
   "cell_type": "markdown",
   "id": "vietnamese-phoenix",
   "metadata": {},
   "source": [
    "## Reason why we don't have max document frequency\n",
    "\n",
    "Words that appear in more than 5% of the reviews: ['album', 'best', 'better', 'buy', 'cd', 'don', 'good', 'great', 'heard', 'just', 'know', 'like', 'listen', 'love', 'music', 'new', 'really', 'song', 'songs', 'sound', 'time', 'version', 'voice', 'way']"
   ]
  },
  {
   "cell_type": "code",
   "execution_count": 10,
   "id": "composed-charm",
   "metadata": {},
   "outputs": [
    {
     "name": "stdout",
     "output_type": "stream",
     "text": [
      "(100000, 5618)\n"
     ]
    }
   ],
   "source": [
    "from sklearn.feature_extraction.text import TfidfVectorizer\n",
    "vectorizer = TfidfVectorizer(min_df = 40)\n",
    "sh = vectorizer.fit_transform(df[\"reviewText\"]+\" \"+df[\"summary\"])\n",
    "words2idx = vectorizer.vocabulary_\n",
    "print(sh.shape)\n"
   ]
  },
  {
   "cell_type": "code",
   "execution_count": 4,
   "id": "dynamic-november",
   "metadata": {},
   "outputs": [],
   "source": [
    "def oneHot(sentence):\n",
    "    output = [0]*len(words2idx)\n",
    "    for word in sentence:\n",
    "        word = word.lower()\n",
    "        if word in words2idx:\n",
    "            output[words2idx[word]] = 1\n",
    "    return output\n",
    "\n",
    "X = []\n",
    "\n",
    "for line in df[\"reviewText\"]+\" \"+df[\"summary\"]:\n",
    "    X.append(oneHot(line.split()))"
   ]
  },
  {
   "cell_type": "code",
   "execution_count": 5,
   "id": "endless-happening",
   "metadata": {},
   "outputs": [],
   "source": [
    "# DEV\n",
    "X_dev = []\n",
    "for line in df_dev[\"reviewText\"]+\" \"+df_dev[\"summary\"]:\n",
    "    X_dev.append(oneHot(line.split()))\n",
    "\n",
    "# TEST\n",
    "X_test = []\n",
    "for line in df_test[\"reviewText\"]+\" \"+df_test[\"summary\"]:\n",
    "    X_test.append(oneHot(line.split())) # can't split None values"
   ]
  },
  {
   "cell_type": "code",
   "execution_count": 9,
   "id": "convenient-detail",
   "metadata": {},
   "outputs": [
    {
     "data": {
      "text/plain": [
       "0.6076681407960298"
      ]
     },
     "execution_count": 9,
     "metadata": {},
     "output_type": "execute_result"
    }
   ],
   "source": [
    "sum(df[\"sentiment\"])/len(df[\"sentiment\"])"
   ]
  },
  {
   "cell_type": "code",
   "execution_count": 11,
   "id": "cosmetic-mayor",
   "metadata": {},
   "outputs": [
    {
     "name": "stderr",
     "output_type": "stream",
     "text": [
      "/home/alanispani/anaconda3/lib/python3.7/site-packages/sklearn/linear_model/_logistic.py:765: ConvergenceWarning: lbfgs failed to converge (status=1):\n",
      "STOP: TOTAL NO. of ITERATIONS REACHED LIMIT.\n",
      "\n",
      "Increase the number of iterations (max_iter) or scale the data as shown in:\n",
      "    https://scikit-learn.org/stable/modules/preprocessing.html\n",
      "Please also refer to the documentation for alternative solver options:\n",
      "    https://scikit-learn.org/stable/modules/linear_model.html#logistic-regression\n",
      "  extra_warning_msg=_LOGISTIC_SOLVER_CONVERGENCE_MSG)\n"
     ]
    },
    {
     "data": {
      "text/plain": [
       "0.9199"
      ]
     },
     "execution_count": 11,
     "metadata": {},
     "output_type": "execute_result"
    }
   ],
   "source": [
    "from sklearn.linear_model import LogisticRegression\n",
    "lr = LogisticRegression()\n",
    "lr.fit(X, target)\n",
    "lr.score(X_dev, y_dev)"
   ]
  },
  {
   "cell_type": "code",
   "execution_count": null,
   "id": "promising-draft",
   "metadata": {},
   "outputs": [],
   "source": [
    "from sklearn.naive_bayes import MultinomialNB\n",
    "clf = MultinomialNB()\n",
    "clf.fit(X, target)\n",
    "clf.score(X_dev, y_dev)"
   ]
  },
  {
   "cell_type": "code",
   "execution_count": 35,
   "id": "durable-cambridge",
   "metadata": {},
   "outputs": [],
   "source": [
    "predictions = lr.predict(X_test)\n",
    "import csv\n",
    "with open('submission.csv', mode='w',newline='') as file:\n",
    "    writer = csv.writer(file, delimiter=',', quotechar='\"', quoting=csv.QUOTE_MINIMAL)\n",
    "\n",
    "    writer.writerow(['id', 'prediction'])\n",
    "    for idx, pred in enumerate(predictions):\n",
    "        writer.writerow([str(idx),str(pred)])"
   ]
  },
  {
   "cell_type": "code",
   "execution_count": 6,
   "id": "colonial-married",
   "metadata": {},
   "outputs": [],
   "source": [
    "## Graveyard\n",
    "\n",
    "def oneHot(sentence):\n",
    "    output = [0]*len(vocab)\n",
    "    for word in sentence:\n",
    "        if word in vocab:\n",
    "            output[words2idx[word]] = 1\n",
    "    return output\n",
    "\n",
    "freqs = defaultdict(int)\n",
    "\n",
    "for line in df[\"reviewText\"]:\n",
    "    for word in line.split():\n",
    "        freqs[word] +=1\n",
    "\n",
    "words = Counter(freqs)\n",
    "w = words.most_common(1000)\n",
    "vocab = set([x[0] for x in w])\n",
    "words2idx = {x:idx for idx,x in enumerate(vocab)}\n",
    "X = []\n",
    "\n",
    "for line in df[\"reviewText\"]:\n",
    "    X.append(oneHot(line.split()))"
   ]
  }
 ],
 "metadata": {
  "kernelspec": {
   "display_name": "Python 3",
   "language": "python",
   "name": "python3"
  },
  "language_info": {
   "codemirror_mode": {
    "name": "ipython",
    "version": 3
   },
   "file_extension": ".py",
   "mimetype": "text/x-python",
   "name": "python",
   "nbconvert_exporter": "python",
   "pygments_lexer": "ipython3",
   "version": "3.7.6"
  }
 },
 "nbformat": 4,
 "nbformat_minor": 5
}
