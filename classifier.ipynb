{
 "cells": [
  {
   "cell_type": "code",
   "execution_count": 58,
   "id": "614ed206",
   "metadata": {},
   "outputs": [
    {
     "name": "stdout",
     "output_type": "stream",
     "text": [
      "17959\n"
     ]
    },
    {
     "name": "stderr",
     "output_type": "stream",
     "text": [
      "/home/alanispani/anaconda3/lib/python3.7/site-packages/sklearn/linear_model/_logistic.py:765: ConvergenceWarning: lbfgs failed to converge (status=1):\n",
      "STOP: TOTAL NO. of ITERATIONS REACHED LIMIT.\n",
      "\n",
      "Increase the number of iterations (max_iter) or scale the data as shown in:\n",
      "    https://scikit-learn.org/stable/modules/preprocessing.html\n",
      "Please also refer to the documentation for alternative solver options:\n",
      "    https://scikit-learn.org/stable/modules/linear_model.html#logistic-regression\n",
      "  extra_warning_msg=_LOGISTIC_SOLVER_CONVERGENCE_MSG)\n"
     ]
    },
    {
     "name": "stdout",
     "output_type": "stream",
     "text": [
      "0.7438600556070436\n",
      "87405\n"
     ]
    },
    {
     "name": "stderr",
     "output_type": "stream",
     "text": [
      "/home/alanispani/anaconda3/lib/python3.7/site-packages/sklearn/linear_model/_logistic.py:765: ConvergenceWarning: lbfgs failed to converge (status=1):\n",
      "STOP: TOTAL NO. of ITERATIONS REACHED LIMIT.\n",
      "\n",
      "Increase the number of iterations (max_iter) or scale the data as shown in:\n",
      "    https://scikit-learn.org/stable/modules/preprocessing.html\n",
      "Please also refer to the documentation for alternative solver options:\n",
      "    https://scikit-learn.org/stable/modules/linear_model.html#logistic-regression\n",
      "  extra_warning_msg=_LOGISTIC_SOLVER_CONVERGENCE_MSG)\n"
     ]
    },
    {
     "name": "stdout",
     "output_type": "stream",
     "text": [
      "0.7883456904541242\n",
      "11043\n"
     ]
    },
    {
     "name": "stderr",
     "output_type": "stream",
     "text": [
      "/home/alanispani/anaconda3/lib/python3.7/site-packages/sklearn/linear_model/_logistic.py:765: ConvergenceWarning: lbfgs failed to converge (status=1):\n",
      "STOP: TOTAL NO. of ITERATIONS REACHED LIMIT.\n",
      "\n",
      "Increase the number of iterations (max_iter) or scale the data as shown in:\n",
      "    https://scikit-learn.org/stable/modules/preprocessing.html\n",
      "Please also refer to the documentation for alternative solver options:\n",
      "    https://scikit-learn.org/stable/modules/linear_model.html#logistic-regression\n",
      "  extra_warning_msg=_LOGISTIC_SOLVER_CONVERGENCE_MSG)\n"
     ]
    },
    {
     "name": "stdout",
     "output_type": "stream",
     "text": [
      "0.8049119555143651\n"
     ]
    }
   ],
   "source": [
    "import os\n",
    "#os.chdir('modules')\n",
    "from model import LogisticRegression\n",
    "from get_data import get_data\n",
    "from collections import defaultdict\n",
    "import matplotlib.pyplot as plt\n",
    "import numpy as np\n",
    "\n",
    "for size in [100, 500, 2000]:\n",
    "    X_gpt_all, Y_gpt_all = get_data(\"gpt_\" + str(size))\n",
    "    X_gpt, Y_gpt = X_gpt_all[:-size], Y_gpt_all[:-size]\n",
    "    X_base, Y_base = X_gpt_all[-size:], Y_gpt_all[-size:]\n",
    "    X_dev, Y_dev = get_data(\"dev\")\n",
    "    ps, scores = [], []\n",
    "    model = LogisticRegression(max_iter=100)\n",
    "    model.fit(X_base, Y_base)\n",
    "    probs = [(list(probs), i) for i, probs in enumerate(model.predict_proba(X_gpt))]\n",
    "    pruned_probs = []\n",
    "    for (n_prob, p_prob), idx in probs:\n",
    "        if n_prob > 0.8:\n",
    "            if Y_gpt[idx] == 0:\n",
    "                pruned_probs.append((n_prob,idx))\n",
    "        elif n_prob < 0.2:\n",
    "            if Y_gpt[idx] == 1:\n",
    "                pruned_probs.append((n_prob, idx))\n",
    "        else:\n",
    "            pruned_probs.append((n_prob, idx))\n",
    "    sorted_probs = sorted(pruned_probs, key=lambda x:x[0])\n",
    "    #final_probs = sorted_probs[:size*25]+sorted_probs[-size*25:]\n",
    "    final_probs = sorted_probs\n",
    "    gpt_indices = [i[1] for i in final_probs]\n",
    "    X_gpt_pruned = [X_gpt[i] for i in gpt_indices]\n",
    "    Y_gpt_pruned = [Y_gpt[i] for i in gpt_indices]\n",
    "    X_all = X_base + X_gpt_pruned\n",
    "    Y_all = Y_base + Y_gpt_pruned\n",
    "    print(len(Y_all))\n",
    "    #X_all, Y_all = zip(*sorted(zip(X_all, Y_all)))\n",
    "    new_model = LogisticRegression(max_iter=100)\n",
    "    new_model.fit(X_all,Y_all)\n",
    "    acc = (new_model.predict(X_dev) == np.array(Y_dev)).mean()\n",
    "    print(acc)"
   ]
  },
  {
   "cell_type": "code",
   "execution_count": 60,
   "id": "1699302a",
   "metadata": {},
   "outputs": [
    {
     "name": "stdout",
     "output_type": "stream",
     "text": [
      "0.6255792400370713\n",
      "0.7132761816496757\n",
      "0.794253938832252\n"
     ]
    }
   ],
   "source": [
    "import os\n",
    "#os.chdir('modules')\n",
    "from model import LogisticRegression\n",
    "from get_data import get_data\n",
    "from collections import defaultdict\n",
    "import matplotlib.pyplot as plt\n",
    "import numpy as np\n",
    "\n",
    "for size in [100, 500, 2000]:\n",
    "    X_base, Y_base = X_gpt_all[-size:], Y_gpt_all[-size:]\n",
    "    X_dev, Y_dev = get_data(\"dev\")\n",
    "    model = LogisticRegression(max_iter=100)\n",
    "    model.fit(X_base, Y_base)\n",
    "    acc = (model.predict(X_dev) == np.array(Y_dev)).mean()\n",
    "    print(acc)"
   ]
  }
 ],
 "metadata": {
  "kernelspec": {
   "display_name": "Python 3",
   "language": "python",
   "name": "python3"
  },
  "language_info": {
   "codemirror_mode": {
    "name": "ipython",
    "version": 3
   },
   "file_extension": ".py",
   "mimetype": "text/x-python",
   "name": "python",
   "nbconvert_exporter": "python",
   "pygments_lexer": "ipython3",
   "version": "3.7.6"
  }
 },
 "nbformat": 4,
 "nbformat_minor": 5
}
