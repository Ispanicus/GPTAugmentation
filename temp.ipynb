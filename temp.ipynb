{
 "cells": [
  {
   "cell_type": "code",
   "execution_count": 29,
   "id": "35a05e64",
   "metadata": {},
   "outputs": [],
   "source": [
    "from random import sample\n",
    "import pandas as pd\n",
    "\n",
    "#ranges = [10, 50, 100, 500, 2000]\n",
    "ranges = [50]\n",
    "for r in ranges:\n",
    "    #df = pd.read_csv(f\"../subsets/n_{r}.txt\", sep=\"\\t\", names=[\"sentiment\",\"text\"])\n",
    "    df = pd.read_csv(f\"Data/subsets/manual_edits_n_50.txt\", sep=\"\\t\", names=[\"sentiment\",\"text\"])\n",
    "    #y, X = df['sentiment'], df['text']\n",
    "    negmask = df[\"sentiment\"] == 0\n",
    "    posmask = df[\"sentiment\"] == 1\n",
    "    neg = df[negmask]['text']\n",
    "    pos = df[posmask]['text']\n",
    "    text = []\n",
    "    negative = sample(list(neg), 2)\n",
    "    positive = sample(list(pos), 2)\n",
    "    with open(f'Data/samples_{r}.txt', 'w') as f:\n",
    "        for t in negative:\n",
    "            f.write(f'0\\t{t}\\n')\n",
    "        for t in positive:\n",
    "            f.write(f'1\\t{t}\\n')"
   ]
  },
  {
   "cell_type": "code",
   "execution_count": 23,
   "id": "aad6dd44",
   "metadata": {},
   "outputs": [
    {
     "data": {
      "text/plain": [
       "0     Bought CD, but not version of song I wanted.  ...\n",
       "1     sorry p86, i love you guys, i love your old mu...\n",
       "2     I was very excited to get the latest from Twiz...\n",
       "3     This download from Amazon cuts off the end of ...\n",
       "4     I wanted to like this CD so much!  I knew the ...\n",
       "5     Didn't see the teeny tiny description that sai...\n",
       "6     After hearing a few of Libera's choral works o...\n",
       "7     If this song is in my Amazon cloud collection,...\n",
       "8     To begin, please understand two things about m...\n",
       "9     It is okay. When I saw Jewel on a talk show a ...\n",
       "10    This is not the accapella. This is labeled inc...\n",
       "11    After looking at the image of the album cover ...\n",
       "12    I bought the clean version by mistake. I would...\n",
       "13    Not happy with it. Only contained 11 songs. Th...\n",
       "14    His voice is just bad, even recorded, where th...\n",
       "15    Quien le dijo a Thalia que tenia voz para cant...\n",
       "16    Meh. Didn't really live up to the expectations...\n",
       "17    I got a lot of songs off of Amazon that were f...\n",
       "18    Fine voice; SAME FOUR CHORDS OVER AND OVER. Ge...\n",
       "19    I heard these guys for the first time in '96 i...\n",
       "20    the packaging made the cd looked used, everyth...\n",
       "21    better than the second cd but not as good as t...\n",
       "22    Don't waste your money on a bimbo who supports...\n",
       "23    I have this one to give to someone else.  I no...\n",
       "24    Was really looking forward to hearing this on ...\n",
       "25    Creepy as f### lyrics and Danzig's voice... Wh...\n",
       "Name: text, dtype: object"
      ]
     },
     "execution_count": 23,
     "metadata": {},
     "output_type": "execute_result"
    }
   ],
   "source": [
    "neg"
   ]
  },
  {
   "cell_type": "code",
   "execution_count": 12,
   "id": "a09ef13d",
   "metadata": {},
   "outputs": [],
   "source": []
  },
  {
   "cell_type": "code",
   "execution_count": 13,
   "id": "fb14f986",
   "metadata": {},
   "outputs": [
    {
     "data": {
      "text/plain": [
       "0     Bought CD, but not version of song I wanted.  ...\n",
       "1     sorry p86, i love you guys, i love your old mu...\n",
       "2     I was very excited to get the latest from Twiz...\n",
       "3     This download from Amazon cuts off the end of ...\n",
       "4     I wanted to like this CD so much!  I knew the ...\n",
       "5     Didn't see the teeny tiny description that sai...\n",
       "6     After hearing a few of Libera's choral works o...\n",
       "7     If this song is in my Amazon cloud collection,...\n",
       "8     To begin, please understand two things about m...\n",
       "9     It is okay. When I saw Jewel on a talk show a ...\n",
       "10    This is not the accapella. This is labeled inc...\n",
       "11    After looking at the image of the album cover ...\n",
       "12    I bought the clean version by mistake. I would...\n",
       "13    Not happy with it. Only contained 11 songs. Th...\n",
       "14    His voice is just bad, even recorded, where th...\n",
       "15    Quien le dijo a Thalia que tenia voz para cant...\n",
       "16    Meh. Didn't really live up to the expectations...\n",
       "17    I got a lot of songs off of Amazon that were f...\n",
       "18    Fine voice; SAME FOUR CHORDS OVER AND OVER. Ge...\n",
       "19    I heard these guys for the first time in '96 i...\n",
       "20    the packaging made the cd looked used, everyth...\n",
       "21    better than the second cd but not as good as t...\n",
       "22    Don't waste your money on a bimbo who supports...\n",
       "23    I have this one to give to someone else.  I no...\n",
       "24    Was really looking forward to hearing this on ...\n",
       "25    Creepy as f### lyrics and Danzig's voice... Wh...\n",
       "Name: text, dtype: object"
      ]
     },
     "execution_count": 13,
     "metadata": {},
     "output_type": "execute_result"
    }
   ],
   "source": []
  }
 ],
 "metadata": {
  "kernelspec": {
   "display_name": "Python 3",
   "language": "python",
   "name": "python3"
  },
  "language_info": {
   "codemirror_mode": {
    "name": "ipython",
    "version": 3
   },
   "file_extension": ".py",
   "mimetype": "text/x-python",
   "name": "python",
   "nbconvert_exporter": "python",
   "pygments_lexer": "ipython3",
   "version": "3.7.6"
  }
 },
 "nbformat": 4,
 "nbformat_minor": 5
}
