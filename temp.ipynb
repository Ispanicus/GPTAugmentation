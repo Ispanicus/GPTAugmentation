{
 "cells": [
  {
   "cell_type": "code",
   "execution_count": 1,
   "id": "fb14f986",
   "metadata": {},
   "outputs": [],
   "source": [
    "import os\n",
    "os.chdir('modules')"
   ]
  },
  {
   "cell_type": "code",
   "execution_count": 3,
   "id": "000bd973",
   "metadata": {},
   "outputs": [
    {
     "name": "stdout",
     "output_type": "stream",
     "text": [
      "Length of vocab: 429\n",
      "Number of epochs = 25, Loss=1.951\n",
      "Accuracy on dev set=0.435\n",
      "Length of vocab: 525\n",
      "Number of epochs = 25, Loss=2.947\n",
      "Accuracy on dev set=0.61\n",
      "Length of vocab: 620\n",
      "Number of epochs = 25, Loss=3.425\n",
      "Accuracy on dev set=0.67\n",
      "Length of vocab: 690\n",
      "Number of epochs = 25, Loss=3.654\n",
      "Accuracy on dev set=0.669\n",
      "Length of vocab: 756\n",
      "Number of epochs = 25, Loss=3.797\n",
      "Accuracy on dev set=0.677\n",
      "Length of vocab: 824\n",
      "Number of epochs = 25, Loss=3.933\n",
      "Accuracy on dev set=0.675\n",
      "Length of vocab: 900\n",
      "Number of epochs = 25, Loss=5.392\n",
      "Accuracy on dev set=0.642\n",
      "Length of vocab: 975\n",
      "Number of epochs = 25, Loss=6.189\n",
      "Accuracy on dev set=0.646\n",
      "Length of vocab: 1019\n",
      "Number of epochs = 25, Loss=7.299\n",
      "Accuracy on dev set=0.707\n",
      "Length of vocab: 1065\n",
      "Number of epochs = 25, Loss=6.409\n",
      "Accuracy on dev set=0.622\n",
      "Length of vocab: 1133\n",
      "Number of epochs = 25, Loss=6.838\n",
      "Accuracy on dev set=0.691\n"
     ]
    },
    {
     "data": {
      "text/plain": [
       "[<matplotlib.lines.Line2D at 0x2403c9872e0>]"
      ]
     },
     "execution_count": 3,
     "metadata": {},
     "output_type": "execute_result"
    },
    {
     "data": {
      "image/png": "[encoded data removed]",
      "text/plain": [
       "<Figure size 432x288 with 1 Axes>"
      ]
     },
     "metadata": {
      "needs_background": "light"
     },
     "output_type": "display_data"
    }
   ],
   "source": [
    "from train import train, score\n",
    "from get_data import get_data\n",
    "from model import LangID\n",
    "from get_gpt_reviews import get_gpt_reviews\n",
    "import matplotlib.pyplot as plt\n",
    "\n",
    "X_all, Y_all = get_data(\"gpt_2000\")\n",
    "base_len = len(get_data(\"n_2000\")) # Should be 2000 in the end\n",
    "new_len = len(X_all) - base_len\n",
    "\n",
    "ps, scores = [], []\n",
    "for i in range(0, 101, 10):\n",
    "    p = i/100\n",
    "    data_size = int(base_len + p*new_len - 1) # exclusive to avoid indexing [-1:]\n",
    "    X = X_all[-data_size:] # Go from back, so we always get base data\n",
    "    Y = Y_all[-data_size:]\n",
    "\n",
    "    model, vocab = train(X, Y, epochs=25, embed_dim=100, lstm_dim=100, batch_size=512)\n",
    "    Xt, Yt = get_data(\"dev\")\n",
    "    scores.append(score(model, vocab, Xt, Yt))\n",
    "    ps.append(p)\n",
    "plt.plot(ps, scores)"
   ]
  },
  {
   "cell_type": "code",
   "execution_count": 12,
   "id": "bea5be03",
   "metadata": {},
   "outputs": [
    {
     "data": {
      "text/plain": [
       "Pipeline(steps=[('onehot', OnehotTransformer()),\n",
       "                ('clf', LogisticRegression(max_iter=1000))])"
      ]
     },
     "execution_count": 12,
     "metadata": {},
     "output_type": "execute_result"
    }
   ],
   "source": [
    "from collections import defaultdict\n",
    "import numpy as np\n",
    "import pandas as pd\n",
    "import json\n",
    "import torch\n",
    "import torch.nn as nn\n",
    "import torch.optim as optim\n",
    "import csv\n",
    "from sklearn.feature_extraction.text import TfidfVectorizer\n",
    "from sklearn.linear_model import LogisticRegression\n",
    "from sklearn.base import BaseEstimator, TransformerMixin\n",
    "from sklearn.pipeline import Pipeline\n",
    "\n",
    "class OnehotTransformer(BaseEstimator, TransformerMixin):\n",
    "    def __init__(self):\n",
    "        pass\n",
    "    \n",
    "    def convert(self, sentence):# [[w1, w2, w3], [w1, w2, w3]]\n",
    "        output = [0]*len(self.vocab)\n",
    "        for word in sentence.split():\n",
    "            word = word.lower()\n",
    "            if word in self.vocab:\n",
    "                output[self.vocab[word]] = 1\n",
    "        return output\n",
    "\n",
    "    def fit(self, X, y=None):\n",
    "        vectorizer = TfidfVectorizer(min_df = 25)\n",
    "        vectorizer.fit(X)\n",
    "        self.vocab = vectorizer.vocabulary_\n",
    "        return self\n",
    "    \n",
    "    def transform(self, X, y=None):\n",
    "        X_ = [self.convert(row) for row in X]\n",
    "        return X_\n",
    "\n",
    "\n",
    "\n",
    "\n"
   ]
  },
  {
   "cell_type": "code",
   "execution_count": 16,
   "id": "9ece1bee",
   "metadata": {},
   "outputs": [
    {
     "data": {
      "text/plain": [
       "[<matplotlib.lines.Line2D at 0x2405cb202b0>]"
      ]
     },
     "execution_count": 16,
     "metadata": {},
     "output_type": "execute_result"
    },
    {
     "data": {
      "image/png": "[encoded data removed]",
      "text/plain": [
       "<Figure size 432x288 with 1 Axes>"
      ]
     },
     "metadata": {
      "needs_background": "light"
     },
     "output_type": "display_data"
    }
   ],
   "source": [
    "ps, scores = [], []\n",
    "for i in range(0, 101, 10):\n",
    "    p = i/100\n",
    "    data_size = int(base_len + p*new_len - 1) # exclusive to avoid indexing [-1:]\n",
    "    X = X_all[-data_size:] # Go from back, so we always get base data\n",
    "    Y = Y_all[-data_size:]\n",
    "\n",
    "    pipe = Pipeline([\n",
    "        ('onehot', OnehotTransformer()),\n",
    "        ('clf', LogisticRegression(max_iter=1000))\n",
    "    ])\n",
    "    pipe.fit(X, Y)\n",
    "    \n",
    "    scores.append(pipe.score(Xt, Yt))\n",
    "    ps.append(p)\n",
    "plt.plot(ps, scores)"
   ]
  }
 ],
 "metadata": {
  "kernelspec": {
   "display_name": "Python 3",
   "language": "python",
   "name": "python3"
  },
  "language_info": {
   "codemirror_mode": {
    "name": "ipython",
    "version": 3
   },
   "file_extension": ".py",
   "mimetype": "text/x-python",
   "name": "python",
   "nbconvert_exporter": "python",
   "pygments_lexer": "ipython3",
   "version": "3.8.5"
  }
 },
 "nbformat": 4,
 "nbformat_minor": 5
}
