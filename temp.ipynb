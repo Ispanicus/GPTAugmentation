{
 "cells": [
  {
   "cell_type": "code",
   "execution_count": 2,
   "id": "fb14f986",
   "metadata": {},
   "outputs": [],
   "source": [
    "import os\n",
    "os.chdir('modules')"
   ]
  },
  {
   "cell_type": "code",
   "execution_count": 4,
   "id": "2d6d48bf",
   "metadata": {},
   "outputs": [
    {
     "name": "stdout",
     "output_type": "stream",
     "text": [
      "Length of vocab: 1133\n"
     ]
    },
    {
     "ename": "TypeError",
     "evalue": "new(): invalid data type 'str'",
     "output_type": "error",
     "traceback": [
      "\u001b[1;31m---------------------------------------------------------------------------\u001b[0m",
      "\u001b[1;31mTypeError\u001b[0m                                 Traceback (most recent call last)",
      "\u001b[1;32m<ipython-input-4-4502aaba4ca8>\u001b[0m in \u001b[0;36m<module>\u001b[1;34m\u001b[0m\n\u001b[0;32m     10\u001b[0m \u001b[1;33m\u001b[0m\u001b[0m\n\u001b[0;32m     11\u001b[0m \u001b[1;33m\u001b[0m\u001b[0m\n\u001b[1;32m---> 12\u001b[1;33m \u001b[0mmain\u001b[0m\u001b[1;33m(\u001b[0m\u001b[1;33m)\u001b[0m\u001b[1;33m\u001b[0m\u001b[1;33m\u001b[0m\u001b[0m\n\u001b[0m",
      "\u001b[1;32m<ipython-input-4-4502aaba4ca8>\u001b[0m in \u001b[0;36mmain\u001b[1;34m()\u001b[0m\n\u001b[0;32m      5\u001b[0m \u001b[1;32mdef\u001b[0m \u001b[0mmain\u001b[0m\u001b[1;33m(\u001b[0m\u001b[1;33m)\u001b[0m\u001b[1;33m:\u001b[0m\u001b[1;33m\u001b[0m\u001b[1;33m\u001b[0m\u001b[0m\n\u001b[0;32m      6\u001b[0m     \u001b[0mX\u001b[0m\u001b[1;33m,\u001b[0m \u001b[0mY\u001b[0m \u001b[1;33m=\u001b[0m \u001b[0mget_data\u001b[0m\u001b[1;33m(\u001b[0m\u001b[1;34m\"gpt_2000\"\u001b[0m\u001b[1;33m)\u001b[0m\u001b[1;33m\u001b[0m\u001b[1;33m\u001b[0m\u001b[0m\n\u001b[1;32m----> 7\u001b[1;33m     \u001b[0mmodel\u001b[0m\u001b[1;33m,\u001b[0m \u001b[0mvocab\u001b[0m \u001b[1;33m=\u001b[0m \u001b[0mtrain\u001b[0m\u001b[1;33m(\u001b[0m\u001b[0mX\u001b[0m\u001b[1;33m,\u001b[0m \u001b[0mY\u001b[0m\u001b[1;33m,\u001b[0m \u001b[0mepochs\u001b[0m\u001b[1;33m=\u001b[0m\u001b[1;36m1\u001b[0m\u001b[1;33m,\u001b[0m \u001b[0membed_dim\u001b[0m\u001b[1;33m=\u001b[0m\u001b[1;36m100\u001b[0m\u001b[1;33m,\u001b[0m \u001b[0mlstm_dim\u001b[0m\u001b[1;33m=\u001b[0m\u001b[1;36m100\u001b[0m\u001b[1;33m,\u001b[0m \u001b[0mbatch_size\u001b[0m\u001b[1;33m=\u001b[0m\u001b[1;36m128\u001b[0m\u001b[1;33m)\u001b[0m\u001b[1;33m\u001b[0m\u001b[1;33m\u001b[0m\u001b[0m\n\u001b[0m\u001b[0;32m      8\u001b[0m     \u001b[0mXt\u001b[0m\u001b[1;33m,\u001b[0m \u001b[0mYt\u001b[0m \u001b[1;33m=\u001b[0m \u001b[0mget_data\u001b[0m\u001b[1;33m(\u001b[0m\u001b[1;34m\"dev\"\u001b[0m\u001b[1;33m)\u001b[0m\u001b[1;33m\u001b[0m\u001b[1;33m\u001b[0m\u001b[0m\n\u001b[0;32m      9\u001b[0m     \u001b[0mscore\u001b[0m\u001b[1;33m(\u001b[0m\u001b[0mmodel\u001b[0m\u001b[1;33m,\u001b[0m \u001b[0mvocab\u001b[0m\u001b[1;33m,\u001b[0m \u001b[0mXt\u001b[0m\u001b[1;33m,\u001b[0m \u001b[0mYt\u001b[0m\u001b[1;33m)\u001b[0m\u001b[1;33m\u001b[0m\u001b[1;33m\u001b[0m\u001b[0m\n",
      "\u001b[1;32m~\\Git\\NLPPhard\\modules\\train.py\u001b[0m in \u001b[0;36mtrain\u001b[1;34m(X, Y, epochs, batch_size, embed_dim, lstm_dim)\u001b[0m\n\u001b[0;32m     36\u001b[0m \u001b[1;33m\u001b[0m\u001b[0m\n\u001b[0;32m     37\u001b[0m         \u001b[0msource\u001b[0m \u001b[1;33m=\u001b[0m \u001b[0mtorch\u001b[0m\u001b[1;33m.\u001b[0m\u001b[0mtensor\u001b[0m\u001b[1;33m(\u001b[0m\u001b[0mX\u001b[0m\u001b[1;33m)\u001b[0m\u001b[1;33m\u001b[0m\u001b[1;33m\u001b[0m\u001b[0m\n\u001b[1;32m---> 38\u001b[1;33m         \u001b[0mtarget\u001b[0m \u001b[1;33m=\u001b[0m \u001b[0mtorch\u001b[0m\u001b[1;33m.\u001b[0m\u001b[0mtensor\u001b[0m\u001b[1;33m(\u001b[0m\u001b[0mY\u001b[0m\u001b[1;33m)\u001b[0m\u001b[1;33m\u001b[0m\u001b[1;33m\u001b[0m\u001b[0m\n\u001b[0m\u001b[0;32m     39\u001b[0m \u001b[1;33m\u001b[0m\u001b[0m\n\u001b[0;32m     40\u001b[0m         \u001b[0msource\u001b[0m \u001b[1;33m=\u001b[0m \u001b[0msource\u001b[0m\u001b[1;33m\u001b[0m\u001b[1;33m\u001b[0m\u001b[0m\n",
      "\u001b[1;31mTypeError\u001b[0m: new(): invalid data type 'str'"
     ]
    }
   ],
   "source": [
    "from train import train, score\n",
    "from get_data import get_data\n",
    "from model import LangID\n",
    "\n",
    "def main():\n",
    "    X, Y = get_data(\"gpt_2000\")\n",
    "    model, vocab = train(X, Y, epochs=1, embed_dim=100, lstm_dim=100, batch_size=128)\n",
    "    Xt, Yt = get_data(\"dev\")\n",
    "    score(model, vocab, Xt, Yt)\n",
    "    \n",
    "    \n",
    "main()"
   ]
  },
  {
   "cell_type": "code",
   "execution_count": 11,
   "id": "aaecc40c",
   "metadata": {},
   "outputs": [
    {
     "name": "stdout",
     "output_type": "stream",
     "text": [
      "paths ['C:/Users/Christoffer/Git/NLPPhard/Data/gen_data/n_2000_size_30_0_0.028921786324062282.gpt', 'C:/Users/Christoffer/Git/NLPPhard/Data/gen_data/n_2000_size_30_0_0.09212712752157592.gpt', 'C:/Users/Christoffer/Git/NLPPhard/Data/gen_data/n_2000_size_30_0_0.12956281056312635.gpt', 'C:/Users/Christoffer/Git/NLPPhard/Data/gen_data/n_2000_size_30_0_0.16121996915775627.gpt', 'C:/Users/Christoffer/Git/NLPPhard/Data/gen_data/n_2000_size_30_0_0.2059797824256967.gpt', 'C:/Users/Christoffer/Git/NLPPhard/Data/gen_data/n_2000_size_30_0_0.5889247271480664.gpt', 'C:/Users/Christoffer/Git/NLPPhard/Data/gen_data/n_2000_size_30_0_0.6679940017895789.gpt', 'C:/Users/Christoffer/Git/NLPPhard/Data/gen_data/n_2000_size_30_0_0.705933929869709.gpt', 'C:/Users/Christoffer/Git/NLPPhard/Data/gen_data/n_2000_size_30_0_0.8555419731880556.gpt', 'C:/Users/Christoffer/Git/NLPPhard/Data/gen_data/n_2000_size_30_0_0.9644879361308978.gpt', 'C:/Users/Christoffer/Git/NLPPhard/Data/gen_data/n_2000_size_30_1_0.015164638646838258.gpt', 'C:/Users/Christoffer/Git/NLPPhard/Data/gen_data/n_2000_size_30_1_0.06220451235459956.gpt', 'C:/Users/Christoffer/Git/NLPPhard/Data/gen_data/n_2000_size_30_1_0.17765513001176447.gpt', 'C:/Users/Christoffer/Git/NLPPhard/Data/gen_data/n_2000_size_30_1_0.22857211965134017.gpt', 'C:/Users/Christoffer/Git/NLPPhard/Data/gen_data/n_2000_size_30_1_0.3371995954162893.gpt', 'C:/Users/Christoffer/Git/NLPPhard/Data/gen_data/n_2000_size_30_1_0.5663113053620341.gpt', 'C:/Users/Christoffer/Git/NLPPhard/Data/gen_data/n_2000_size_30_1_0.6584558684624098.gpt', 'C:/Users/Christoffer/Git/NLPPhard/Data/gen_data/n_2000_size_30_1_0.8037349398940932.gpt', 'C:/Users/Christoffer/Git/NLPPhard/Data/gen_data/n_2000_size_30_1_0.9537676451149237.gpt', 'C:/Users/Christoffer/Git/NLPPhard/Data/gen_data/n_2000_size_30_2_0.03411109781005772.gpt', 'C:/Users/Christoffer/Git/NLPPhard/Data/gen_data/n_2000_size_30_2_0.28719085640742015.gpt', 'C:/Users/Christoffer/Git/NLPPhard/Data/gen_data/n_2000_size_30_2_0.6747738798780868.gpt', 'C:/Users/Christoffer/Git/NLPPhard/Data/gen_data/n_2000_size_30_2_0.7037196265779893.gpt']\n"
     ]
    }
   ],
   "source": [
    "X, Y = get_data(\"gpt_2000\")"
   ]
  },
  {
   "cell_type": "code",
   "execution_count": 6,
   "id": "84afc200",
   "metadata": {},
   "outputs": [],
   "source": [
    "X1, Y1 = get_data(\"gpt_2000\")"
   ]
  },
  {
   "cell_type": "code",
   "execution_count": 9,
   "id": "c45db21b",
   "metadata": {},
   "outputs": [
    {
     "data": {
      "text/plain": [
       "{('0', str), ('1', str), (0, int), (1, int)}"
      ]
     },
     "execution_count": 9,
     "metadata": {},
     "output_type": "execute_result"
    }
   ],
   "source": [
    "{(y, type(y)) for y in Y1}"
   ]
  },
  {
   "cell_type": "code",
   "execution_count": 11,
   "id": "f998c924",
   "metadata": {},
   "outputs": [
    {
     "data": {
      "text/plain": [
       "['1', '1', '1', '1', '1', '1', '1', '1', '1', '1']"
      ]
     },
     "execution_count": 11,
     "metadata": {},
     "output_type": "execute_result"
    }
   ],
   "source": [
    "Y1[-10:]"
   ]
  },
  {
   "cell_type": "code",
   "execution_count": null,
   "id": "edd4edb2",
   "metadata": {},
   "outputs": [],
   "source": []
  }
 ],
 "metadata": {
  "kernelspec": {
   "display_name": "Python 3",
   "language": "python",
   "name": "python3"
  },
  "language_info": {
   "codemirror_mode": {
    "name": "ipython",
    "version": 3
   },
   "file_extension": ".py",
   "mimetype": "text/x-python",
   "name": "python",
   "nbconvert_exporter": "python",
   "pygments_lexer": "ipython3",
   "version": "3.8.5"
  }
 },
 "nbformat": 4,
 "nbformat_minor": 5
}
